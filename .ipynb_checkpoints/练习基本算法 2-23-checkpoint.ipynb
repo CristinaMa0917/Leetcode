{
 "cells": [
  {
   "cell_type": "code",
   "execution_count": 1,
   "metadata": {},
   "outputs": [],
   "source": [
    "def insert(alist):\n",
    "    if len(alist)<=1:\n",
    "        return alist\n",
    "    for i in range(1,len(alist)):\n",
    "        for j in range(i):\n",
    "            if alist[i]<alist[j]:\n",
    "                alist[i],alist[j]=alist[j],alist[i]\n",
    "    return alist\n",
    "                "
   ]
  },
  {
   "cell_type": "code",
   "execution_count": 3,
   "metadata": {},
   "outputs": [
    {
     "data": {
      "text/plain": [
       "[0, 1, 2, 3, 4]"
      ]
     },
     "execution_count": 3,
     "metadata": {},
     "output_type": "execute_result"
    }
   ],
   "source": [
    "alist = [1,3,2,4,0]\n",
    "blist = insert(alist)\n",
    "blist"
   ]
  },
  {
   "cell_type": "code",
   "execution_count": 8,
   "metadata": {},
   "outputs": [],
   "source": [
    "def mergelr(left,right):\n",
    "    lgh1 = len(left)\n",
    "    lgh2 = len(right)\n",
    "    i1 = 0\n",
    "    i2 = 0\n",
    "    temp = []\n",
    "    while(i1<lgh1 or i2 <lgh2):\n",
    "        if left[i1]<right[i2]:\n",
    "            temp.append(left[i1])\n",
    "            i1+=1\n",
    "        else:\n",
    "            temp.append(right[i2])\n",
    "            i2+=1\n",
    "        if i1 == lgh1:\n",
    "            temp=temp+right[i2:]\n",
    "            return temp\n",
    "        if i2 == lgh2:\n",
    "            temp=temp+left[i1:]\n",
    "            return temp\n",
    "    return temp\n",
    "\n",
    "def merge(alist):\n",
    "    lgh = len(alist)\n",
    "    if lgh == 1:\n",
    "        return alist\n",
    "    else:\n",
    "        left = merge(alist[:int(lgh/2)])\n",
    "        right = merge(alist[int(lgh/2):])\n",
    "    return mergelr(left,right)\n",
    "    "
   ]
  },
  {
   "cell_type": "code",
   "execution_count": 10,
   "metadata": {},
   "outputs": [
    {
     "data": {
      "text/plain": [
       "[0, 1, 2, 3, 4]"
      ]
     },
     "execution_count": 10,
     "metadata": {},
     "output_type": "execute_result"
    }
   ],
   "source": [
    "alist=[1,3,2,4,0]\n",
    "merge(alist)"
   ]
  },
  {
   "cell_type": "code",
   "execution_count": 80,
   "metadata": {},
   "outputs": [],
   "source": [
    "def quick(alist,left,right): # 设置left，right记录起止位置\n",
    "    if left>=right: #排序终止条件\n",
    "        return\n",
    "    else:\n",
    "        base = left #以左边第一个作为base\n",
    "        i = left\n",
    "        j = right\n",
    "        while(i!=j):# 时刻注意i 和j是否相遇\n",
    "            while(alist[j]>alist[base] and i!=j): #先从右边开始找第一个小于base的位置\n",
    "                j-=1\n",
    "            while(alist[i]<alist[base] and i!=j): #再找左边开始找第一个大于base的位置\n",
    "                i+=1\n",
    "            alist[i],alist[j]=alist[j],alist[i] #找到以后交换\n",
    "\n",
    "        alist[base],alist[i]=alist[i],alist[base]# 最后交换base和相遇位置的数（因为相遇位置肯定小于base）\n",
    "        base=i # 赋值新的base\n",
    "        quick(alist,left,base) #递归左半部分\n",
    "        quick(alist,base+1,right) #递归右边部分\n",
    "        return alist"
   ]
  },
  {
   "cell_type": "code",
   "execution_count": 81,
   "metadata": {},
   "outputs": [
    {
     "data": {
      "text/plain": [
       "[0, 1, 2, 3, 4]"
      ]
     },
     "execution_count": 81,
     "metadata": {},
     "output_type": "execute_result"
    }
   ],
   "source": [
    "alist=[1,3,2,4,0]\n",
    "quick(alist,0,len(alist)-1)"
   ]
  },
  {
   "cell_type": "code",
   "execution_count": 111,
   "metadata": {},
   "outputs": [],
   "source": [
    "# 列表表示的树结构\n",
    "class binTree():\n",
    "    def __init__(self,rootval):\n",
    "        self.root = [rootval,[],[]]\n",
    "    def insertLeft(self,leftval):\n",
    "        rl = self.root.pop(1)\n",
    "        if len(rl)>0:\n",
    "            return self.root.insert(1,[leftval,rl,[]]) # 保证了branch[0]始终是有数值的，不至于BFS.append(tree.pop(0))出错\n",
    "        else:\n",
    "            return self.root.insert(1,[leftval,[],[]])\n",
    "    def insertRight(self,rightval):\n",
    "        rr = self.root.pop(2)\n",
    "        if len(rr)>0:\n",
    "            return self.root.insert(2,[rightval,[],rr])\n",
    "        else:\n",
    "            return self.root.insert(2,[rightval,[],[]])\n",
    "    def getRootVal(self):\n",
    "        return self.root[0]\n",
    "    def getLeftChild(self):\n",
    "        return self.root[1]\n",
    "    def getRightChild(self):\n",
    "        return self.root[2]\n",
    "    def preorder(self,tree):\n",
    "        print(tree[0])\n",
    "        if tree[1]:\n",
    "            self.preorder(tree[1])\n",
    "        if tree[2]:\n",
    "            self.preorder(tree[2])\n",
    "    def BFS(self):\n",
    "        tree=self.root.copy()\n",
    "        bfs=[tree.pop(0)]\n",
    "        print(tree)\n",
    "        while(tree):\n",
    "            subtree = tree.pop(0)\n",
    "            print('subtree',subtree)\n",
    "            bfs.append(subtree[0])\n",
    "            if subtree[1]:\n",
    "                tree.append(subtree[1])\n",
    "            if subtree[2]:\n",
    "                tree.append(subtree[2])\n",
    "        return bfs\n",
    "            "
   ]
  },
  {
   "cell_type": "code",
   "execution_count": 112,
   "metadata": {},
   "outputs": [
    {
     "name": "stdout",
     "output_type": "stream",
     "text": [
      "root 1\n",
      "left [4, [2, [], []], []]\n",
      "right [5, [], [3, [], []]]\n",
      "[[4, [2, [], []], []], [5, [], [3, [], []]]]\n",
      "subtree [4, [2, [], []], []]\n",
      "subtree [5, [], [3, [], []]]\n",
      "subtree [2, [], []]\n",
      "subtree [3, [], []]\n",
      "BFS [1, 4, 5, 2, 3]\n",
      "1\n",
      "4\n",
      "2\n",
      "5\n",
      "3\n",
      "preorder None\n"
     ]
    }
   ],
   "source": [
    "t1 = binTree(1)\n",
    "t1.insertLeft(2)\n",
    "t1.insertRight(3)\n",
    "t1.insertLeft(4)\n",
    "t1.insertRight(5)\n",
    "print('root',t1.getRootVal())\n",
    "print('left',t1.getLeftChild())\n",
    "print('right',t1.getRightChild())\n",
    "print('BFS',t1.BFS())\n",
    "print('preorder',t1.preorder(t1.root))"
   ]
  },
  {
   "cell_type": "code",
   "execution_count": 128,
   "metadata": {},
   "outputs": [],
   "source": [
    "#j 结点表示树的结构\n",
    "class treeNode():\n",
    "    def __init__(self,val):\n",
    "        self.val = val\n",
    "        self.leftChild = None\n",
    "        self.rightChild = None\n",
    "    def insertLeft(self,leftval):\n",
    "        leftNode = treeNode(leftval)\n",
    "        temp = self.leftChild\n",
    "        if temp:\n",
    "            leftNode.leftChild = temp\n",
    "            self.leftChild=leftNode\n",
    "        else:\n",
    "            self.leftChild = leftNode\n",
    "    def insertRight(self,rightval):\n",
    "        rightNode = treeNode(rightval)\n",
    "        temp = self.rightChild\n",
    "        if temp:\n",
    "            rightNode.rightChild = temp\n",
    "            self.rightChild = rightNode\n",
    "        else:\n",
    "            self.rightChild = rightNode\n",
    "    def getRootVal(self):\n",
    "        return self.val\n",
    "    def getLeftChild(self):\n",
    "        return self.leftChild\n",
    "    def getRightChild(self):\n",
    "        return self.rightChild\n",
    "    def preorder(self):\n",
    "        print(self.val)\n",
    "        if self.leftChild:\n",
    "            self.leftChild.preorder()\n",
    "        if self.rightChild:\n",
    "            self.rightChild.preorder()\n",
    "    \n",
    "    def BFS(self):\n",
    "        bfs=[self.val]\n",
    "        tree=[]\n",
    "        tree.append(self.leftChild)\n",
    "        tree.append(self.rightChild)\n",
    "        while(tree):\n",
    "            subtree = tree.pop(0)\n",
    "            bfs.append(subtree.val)\n",
    "            if subtree.leftChild:\n",
    "                tree.append(subtree.leftChild)\n",
    "            if subtree.rightChild:\n",
    "                tree.append(subtree.rightChild)\n",
    "        return bfs"
   ]
  },
  {
   "cell_type": "code",
   "execution_count": 130,
   "metadata": {},
   "outputs": [
    {
     "name": "stdout",
     "output_type": "stream",
     "text": [
      "root 1\n",
      "left 4\n",
      "right 5\n",
      "[1, 4, 5, 2, 3]\n",
      "1\n",
      "4\n",
      "2\n",
      "5\n",
      "3\n"
     ]
    }
   ],
   "source": [
    "t1 = treeNode(1)\n",
    "t1.insertLeft(2)\n",
    "t1.insertRight(3)\n",
    "t1.insertLeft(4)\n",
    "t1.insertRight(5)\n",
    "print('root',t1.getRootVal())\n",
    "print('left',t1.getLeftChild().getRootVal())\n",
    "print('right',t1.getRightChild().getRootVal())\n",
    "print(t1.BFS())\n",
    "t1.preorder()"
   ]
  },
  {
   "cell_type": "code",
   "execution_count": null,
   "metadata": {},
   "outputs": [],
   "source": []
  },
  {
   "cell_type": "code",
   "execution_count": null,
   "metadata": {},
   "outputs": [],
   "source": []
  },
  {
   "cell_type": "code",
   "execution_count": null,
   "metadata": {},
   "outputs": [],
   "source": []
  },
  {
   "cell_type": "code",
   "execution_count": null,
   "metadata": {},
   "outputs": [],
   "source": []
  },
  {
   "cell_type": "code",
   "execution_count": null,
   "metadata": {},
   "outputs": [],
   "source": []
  }
 ],
 "metadata": {
  "kernelspec": {
   "display_name": "Python 3",
   "language": "python",
   "name": "python3"
  },
  "language_info": {
   "codemirror_mode": {
    "name": "ipython",
    "version": 3
   },
   "file_extension": ".py",
   "mimetype": "text/x-python",
   "name": "python",
   "nbconvert_exporter": "python",
   "pygments_lexer": "ipython3",
   "version": "3.6.5"
  }
 },
 "nbformat": 4,
 "nbformat_minor": 2
}

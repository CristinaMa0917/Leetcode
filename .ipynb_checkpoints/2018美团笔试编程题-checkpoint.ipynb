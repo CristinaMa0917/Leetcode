{
 "cells": [
  {
   "cell_type": "code",
   "execution_count": 122,
   "metadata": {},
   "outputs": [],
   "source": [
    "#Q1:找字符串间的距离\n",
    "import numpy as np\n",
    "s = 'abc'\n",
    "t = 'a'\n",
    "l1 = len(s)\n",
    "l2 = len(t)\n",
    "num = l1-l2+1\n",
    "distance = 0"
   ]
  },
  {
   "cell_type": "code",
   "execution_count": 123,
   "metadata": {},
   "outputs": [
    {
     "name": "stdout",
     "output_type": "stream",
     "text": [
      "0\n",
      "a\n",
      "1\n",
      "b\n",
      "2\n",
      "c\n"
     ]
    }
   ],
   "source": [
    "#异常情况处理\n",
    "if l1<=l2 or l1==0 or l2 ==0:\n",
    "    print(\"wrong input\")\n",
    "for i,j in enumerate(s):\n",
    "    if i < l1:\n",
    "        print(i)\n",
    "        smallstr = s[i:i+l2]\n",
    "        print(smallstr)\n",
    "        for j in range(l2):\n",
    "            if smallstr[j] != t[j]:\n",
    "                distance+=1"
   ]
  },
  {
   "cell_type": "code",
   "execution_count": null,
   "metadata": {},
   "outputs": [],
   "source": [
    "#学长这题的答案\n",
    "def Problem10():\n",
    "    s = raw_input()\n",
    "    t = raw_input()\n",
    "    sum = 0\n",
    "    for i in range(0,len(s)-len(t)+1):\n",
    "        s_prime = s[i:i+len(t)]\n",
    "        for j in range(len(t)):\n",
    "            if s_prime[j] != t[j]:\n",
    "                sum += 1\n",
    "    print sum"
   ]
  },
  {
   "cell_type": "code",
   "execution_count": 139,
   "metadata": {},
   "outputs": [
    {
     "data": {
      "text/plain": [
       "array([ 1.,  2.,  1.,  1.,  1.,  1.,  1.,  1.,  1.,  1.])"
      ]
     },
     "execution_count": 139,
     "metadata": {},
     "output_type": "execute_result"
    }
   ],
   "source": [
    "#Q2:输入一列str包含0-9的数字，从str里取数字不能组成的最小正数是多少\n",
    "#从各个位数能取的数字的角度分析问题\n",
    "arr='01123456789'\n",
    "count = np.zeros(10)\n",
    "for i in range(len(arr)):\n",
    "    count[int(arr[i])]+=1\n",
    "count"
   ]
  },
  {
   "cell_type": "code",
   "execution_count": 140,
   "metadata": {},
   "outputs": [
    {
     "name": "stdout",
     "output_type": "stream",
     "text": [
      "2\n"
     ]
    }
   ],
   "source": [
    "done = False\n",
    "while not done:\n",
    "    k = 1\n",
    "    if 0 in count[1:]: #如果1-9中缺了数字\n",
    "        i=1\n",
    "        while count[i]!=0:\n",
    "            i+=1\n",
    "        print (i)\n",
    "        minnum = str(i)*(k+1)\n",
    "        done = True\n",
    "    elif count[0]==0: #如果1-9没缺，0缺了\n",
    "        minnum = str(1)+str(0)*(k)\n",
    "        done = True\n",
    "    else: #如果都没缺，count-1，循环继续\n",
    "        count=count-1\n",
    "        k+=1"
   ]
  },
  {
   "cell_type": "code",
   "execution_count": 145,
   "metadata": {},
   "outputs": [
    {
     "name": "stdout",
     "output_type": "stream",
     "text": [
      "100\n"
     ]
    }
   ],
   "source": [
    "#学长的答案 好像不太对\n",
    "def Problem11(S):\n",
    "    print (out(S))\n",
    "\n",
    "def out(S):\n",
    "    dp = [0 for i in range(10)]\n",
    "    for i in range(10):\n",
    "        dp[i] = S.count(str(i))\n",
    "        if i>0 and dp[i] == 0:\n",
    "            return i\n",
    "    if dp[0] == 0:\n",
    "        ans = ''\n",
    "        index = dp[1:].index(min(dp[1:]))+1\n",
    "        j = min(dp[1:])\n",
    "        for i in range(j):\n",
    "            ans += str(index)\n",
    "        return ans+'0'\n",
    "    elif dp[0]>min(dp[1:]):\n",
    "        ans = ''\n",
    "        index = dp[1:].index(min(dp[1:]))+1\n",
    "        j = min(dp[1:])\n",
    "        for i in range(j+1):\n",
    "            ans += str(index)\n",
    "        return ans\n",
    "    else:\n",
    "        ans = ''\n",
    "        ans += '1'\n",
    "        for i in range(dp[0] + 1):\n",
    "            ans += '0'\n",
    "        return ans\n",
    "\n",
    "Problem11('01123456789')"
   ]
  },
  {
   "cell_type": "code",
   "execution_count": null,
   "metadata": {},
   "outputs": [],
   "source": []
  }
 ],
 "metadata": {
  "kernelspec": {
   "display_name": "Python 3",
   "language": "python",
   "name": "python3"
  }
 },
 "nbformat": 4,
 "nbformat_minor": 2
}

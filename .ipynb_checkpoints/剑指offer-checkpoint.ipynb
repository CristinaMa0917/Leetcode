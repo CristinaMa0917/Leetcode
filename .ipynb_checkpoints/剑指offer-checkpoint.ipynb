{
 "cells": [
  {
   "cell_type": "markdown",
   "metadata": {},
   "source": [
    "三种帮助理解题目的方法\n",
    "1. 举例\n",
    "2. 画图\n",
    "3. 分解\n",
    "\n",
    "刷题Tips\n",
    "- 递归本质上是栈结构\n",
    "\n",
    "面试Tips\n",
    "- 对没有明确要求的题目，多问下面试官细节\n",
    "- "
   ]
  },
  {
   "cell_type": "code",
   "execution_count": null,
   "metadata": {},
   "outputs": [],
   "source": [
    "二叉树部分\n",
    "1. 重建二叉树\n",
    "2. 树的子结构\n",
    "3. 二叉树的镜像\n",
    "4. 从上到下打印二叉树\n",
    "5. 二叉搜索树的后序遍历\n",
    "6. 二叉树中和为某一值的路径 （**）\n",
    "7. 二叉搜索树与双向链表 （**）\n",
    "8. 二叉树的深度 (leetcode有)\n",
    "9. 平衡二叉树 （leecode有）\n",
    "10. 二叉树的下一个节点\n",
    "11. 堆成的二叉树\n",
    "12. 按之字形顺序打印二叉树\n",
    "13. 把二叉树打印成多行\n",
    "14. 序列化二叉树\n",
    "15. 二叉树的第K个节点\n",
    "16. 数据流中的中位数\n"
   ]
  },
  {
   "cell_type": "code",
   "execution_count": 5,
   "metadata": {},
   "outputs": [],
   "source": [
    "#1.重建二叉树\n",
    "#思路：以pre索引根结点，以tin分割左右结点，递归的方式解决\n",
    "#难点：传入的是set类型的pre和tin，递归传递的参数要对pre进行索引\n",
    "class Solution:\n",
    "    # 返回构造的TreeNode根节点\n",
    "    def reConstructBinaryTree(self, pre, tin):\n",
    "        # write code here\n",
    "        if len(tin) == 0:\n",
    "            return None\n",
    "        if len(tin) == 1:\n",
    "            return TreeNode(tin[0])\n",
    "        else:# 忘记写这个else导致最后返回为空\n",
    "            root = TreeNode(pre[0])#返回的是pre的第一个值\n",
    "            root.left = self.reConstructBinaryTree(pre[1:tin.index(pre[0])+1],tin[:tin.index(pre[0])])#需要改变pre的传参\n",
    "            root.right = self.reConstructBinaryTree(pre[tin.index(pre[0])+1:],tin[tin.index(pre[0])+1:] )\n",
    "        return root"
   ]
  },
  {
   "cell_type": "code",
   "execution_count": 6,
   "metadata": {},
   "outputs": [],
   "source": [
    "#2. 树的子结构\n",
    "#思路：调用hasSubtree检查root1的结点是不是和root2的结点的值相同，相同则调用Tree1HasTree2检查root1和root2的其余的结点是否一致\n",
    "#心路：1.能直接想到要递归的判断每个结点是否包括子结点，但是没有想到设置一个Tree1HasTree2这个子函数确认如果根结点的值一值，判断其他的结点\n",
    "#总想着把这个功能直接用一个hasSubTree实现，就导致思路停滞；2.同时判断完一个结点之后要继续遍历其他的结点看看有没有符合条件的，而不是直接\n",
    "#结束了返回，所以要设置一个result经过各个结点判断，确认没有true返回以后，再返回最终的值。3.判断条件的先后顺序也要小心，Tree1HasTree2\n",
    "#中先判断 root2==None，否则返回的值不对。\n",
    "class Solution:\n",
    "    def Tree1HasTree2(self,root1,root2):\n",
    "        if root2==None:\n",
    "            return True\n",
    "        if root1==None:\n",
    "            return False\n",
    "        if root1.val != root2.val:# 需要再判断\n",
    "            return False\n",
    "        return self.Tree1HasTree2(root1.left,root2.left) and self.Tree1HasTree2(root1.right,root2.right)\n",
    "    \n",
    "    def HasSubtree(self, pRoot1, pRoot2):\n",
    "        # write code here\n",
    "        result = False\n",
    "        if (pRoot1 and pRoot2):\n",
    "            if pRoot1.val==pRoot2.val:\n",
    "                result = self.Tree1HasTree2(pRoot1,pRoot2)\n",
    "            if not result:\n",
    "                result = self.HasSubtree(pRoot1.left,pRoot2)\n",
    "            if not result:\n",
    "                result = self.HasSubtree(pRoot1.right,pRoot2)\n",
    "        return result"
   ]
  },
  {
   "cell_type": "code",
   "execution_count": 7,
   "metadata": {},
   "outputs": [],
   "source": [
    "#3. 二叉树的镜像\n",
    "# 悲愤，这么简单，就三行代码！！！\n",
    "class Solution:\n",
    "    # 返回镜像树的根节点\n",
    "    def Mirror(self,root):\n",
    "        if root:\n",
    "            root.left,root.right = root.right,root.left\n",
    "            self.Mirror(root.left)\n",
    "            self.Mirror(root.right)"
   ]
  },
  {
   "cell_type": "code",
   "execution_count": 8,
   "metadata": {},
   "outputs": [],
   "source": [
    "# 判断一个sequence是不是后序遍历\n",
    "#思路： 最后一个结点一定是root，以此为界，看比root大的第一个数以后是不是存在比root小的值\n",
    "#坑： 1.sequence为空的情况下，输出为False，前面要判断一下；\n",
    "# 2.递归的语句在else的情况里面\n",
    "class Solution:\n",
    "    def VerifySquenceOfBST(self, sequence):\n",
    "        # write code here\n",
    "        if sequence==[]:\n",
    "            return False\n",
    "        if len(sequence)==1:\n",
    "            result =  True\n",
    "        else:\n",
    "            rootval = sequence[-1]\n",
    "            find = False\n",
    "            index = 0\n",
    "            for i in range(len(sequence)-1):\n",
    "                if find == True and sequence[i]<rootval:\n",
    "                    return False\n",
    "                if  sequence[i]>rootval:\n",
    "                    index = i\n",
    "                    find = True\n",
    "            self.VerifySquenceOfBST(sequence[:index])\n",
    "            self.VerifySquenceOfBST(sequence[index:len(sequence)-1])\n",
    "        return True"
   ]
  },
  {
   "cell_type": "code",
   "execution_count": 1,
   "metadata": {},
   "outputs": [],
   "source": [
    "#4,5都是基本的遍历方式，注意判断root为空的情况"
   ]
  },
  {
   "cell_type": "code",
   "execution_count": 3,
   "metadata": {},
   "outputs": [],
   "source": [
    "#6.二叉树中和为某一值的路径,并且子数组长的排在前面（二叉树本来左子树的数值就比较小，所以按照前序遍历，自然输出的是长的在前面）\n",
    "# 书上的解法是我直观想到的解法，设置列表保存中间经过的路径，列表不断的进栈出栈\n",
    "# 讨论区的做法直接将expectNum-root.val，然后把左右节点的答案看来真正的理解递归还需要一段时间！！\n",
    "def FindPath(root,expectNumber):\n",
    "    if not root:\n",
    "        return []\n",
    "    if root and not root.left and not root.right and root.val==expectNumber:\n",
    "        return [[root.val]]\n",
    "    res = []\n",
    "    left = FindPath(root.left,expectNumber-root.val)\n",
    "    right = FindPath(root.right,expectNumber-root.val)\n",
    "    for i in left+right:\n",
    "        res.append([root.val]+i)                                                                              \n",
    "    return res"
   ]
  },
  {
   "cell_type": "code",
   "execution_count": 4,
   "metadata": {},
   "outputs": [],
   "source": [
    "#7. 二叉搜索树与双向排序链表\n",
    "class Solution:\n",
    "    def Convert(self, pRootOfTree):\n",
    "        if not pRootOfTree:\n",
    "            return pRootOfTree\n",
    "        if not pRootOfTree.left and not pRootOfTree.right:\n",
    "            return pRootOfTree\n",
    "        \n",
    "        # 处理左子树\n",
    "        self.Convert(pRootOfTree.left)\n",
    "        left=pRootOfTree.left\n",
    " \n",
    "        # 连接根与左子树最大结点\n",
    "        if left:\n",
    "            while(left.right):\n",
    "                left=left.right\n",
    "            pRootOfTree.left,left.right=left,pRootOfTree\n",
    " \n",
    "        # 处理右子树\n",
    "        self.Convert(pRootOfTree.right)\n",
    "        right=pRootOfTree.right\n",
    " \n",
    "        # 连接根与右子树最小结点\n",
    "        if right:\n",
    "            while(right.left):\n",
    "                right=right.left\n",
    "            pRootOfTree.right,right.left=right,pRootOfTree\n",
    "             \n",
    "        while(pRootOfTree.left):\n",
    "            pRootOfTree=pRootOfTree.left\n",
    "        return pRootOfTree"
   ]
  },
  {
   "cell_type": "code",
   "execution_count": 11,
   "metadata": {},
   "outputs": [
    {
     "data": {
      "text/plain": [
       "552"
      ]
     },
     "execution_count": 11,
     "metadata": {},
     "output_type": "execute_result"
    }
   ],
   "source": [
    "184*3"
   ]
  },
  {
   "cell_type": "markdown",
   "metadata": {},
   "source": [
    "题目列表--1\n",
    "1. 递增二维数组的查找\n",
    "2. 替换字符串空格为%20\n",
    "3. 重建二叉树 72页\n",
    "4. 用两个队列实现一个栈\n",
    "5. 旋转数组的最小数字 （二分查找）\n",
    "6. fibonacci数列\n",
    "7. 青蛙跳台阶\n",
    "8. 青蛙变态跳台阶\n",
    "9. 矩形覆盖问题\n",
    "10. 二进制中1的个数\n",
    "11. 链表中倒数第K个结点\n",
    "12. 反转链表\n",
    "13. 合并链表\n",
    "14. 树的子结构 （134页）\n",
    "15. 二叉树的镜像 （142页）\n",
    "16. 包含min函数的栈\n",
    "17. 正确的出栈顺序\n",
    "18. 从上到下打印二叉树\n",
    "19. 二叉搜索树的后序遍历序列\n",
    "20. 二叉树中和为某一值的路径（160）\n"
   ]
  },
  {
   "cell_type": "code",
   "execution_count": 32,
   "metadata": {},
   "outputs": [],
   "source": [
    "# 1. 递增二维数组的查找\n",
    "# 以右上角的数字为主，找到规律，逐步缩小查找范围\n",
    "class Solution:\n",
    "    # array 二维列表\n",
    "    def Find(self, target, array):\n",
    "        # write code here\n",
    "        if not array:\n",
    "            return False\n",
    "        rows = len(array)\n",
    "        cols = len(array[0])\n",
    "        row = 0\n",
    "        col = cols-1\n",
    "        while(row<rows and col >= 0):\n",
    "            if target == array[row][col]:\n",
    "                return True\n",
    "            elif target < array[row][col]:\n",
    "                col -= 1\n",
    "            else:\n",
    "                row += 1\n",
    "        return False"
   ]
  },
  {
   "cell_type": "code",
   "execution_count": 41,
   "metadata": {},
   "outputs": [],
   "source": [
    "# 2. 替换空格\n",
    "# 注意在c++中 字符串末尾有%0\n",
    "# 如果要求在原字符串上做替换，c++从前往后，o（n^2），从后向前替换，时间复杂度是o（n）\n",
    "# 推广： 合并两个数组，从前往后复制每个数字需要重复移动数字多次，从后往前能够减少移动次数"
   ]
  },
  {
   "cell_type": "code",
   "execution_count": 42,
   "metadata": {},
   "outputs": [],
   "source": [
    "# 4.用两个队列实现一个栈\n",
    "# -*- coding:utf-8 -*-\n",
    "class Solution:\n",
    "    def __init__(self):\n",
    "        self.stack_in = []\n",
    "        self.stack_out = []\n",
    "    def push(self, node):\n",
    "        # write code here\n",
    "        self.stack_in.append(node)\n",
    "    def pop(self):\n",
    "        if self.stack_out:\n",
    "            return self.stack_out.pop()\n",
    "        elif not self.stack_in:\n",
    "            return None\n",
    "        else:\n",
    "            while self.stack_in:\n",
    "                self.stack_out.append(self.stack_in.pop())\n",
    "            return self.stack_out.pop()\n",
    "        # return xx"
   ]
  },
  {
   "cell_type": "code",
   "execution_count": 48,
   "metadata": {},
   "outputs": [],
   "source": [
    "# 旋转数组的最小数字\n",
    "class Solution:\n",
    "    def minNumberInRotateArray(self, li):\n",
    "        # write code here\n",
    "        end = len(li)-1\n",
    "        if end <0:\n",
    "            return 0\n",
    "        start = 0\n",
    "        while(end-1>start):\n",
    "            mid = (end+start)//2\n",
    "            if li[mid]>li[start]:\n",
    "                start = mid\n",
    "            elif li[mid]<li[start]:\n",
    "                end = mid\n",
    "            else: \n",
    "                return min(li[start:end+1]) #如果出现下标相等的情况，只能顺序查找\n",
    "        return li[end]\n",
    "a = Solution()\n",
    "l = a.minNumberInRotateArray([3,1,])"
   ]
  },
  {
   "cell_type": "code",
   "execution_count": 50,
   "metadata": {},
   "outputs": [],
   "source": [
    "# 6，7，8，9都是fibnocci问题，可以直接用循环求，递归会产生很多重复计算，时间复杂度为o(n)"
   ]
  },
  {
   "cell_type": "code",
   "execution_count": 51,
   "metadata": {},
   "outputs": [],
   "source": [
    "# 10. 位运算一共有五种操作，【与，或，异或，左移和右移】位运算的效率要比乘除或者与运算的效率高很多\n",
    "# 二进制中1的个数\n",
    "\n",
    "# 负数中1的个数是32-该数相反数的1的个数\n",
    "class Solution:\n",
    "    def NumberOf1(self, n):\n",
    "        # write code here\n",
    "        count = 0\n",
    "        \n",
    "        if n <0:\n",
    "            num = bin(n*(-1)-1)\n",
    "        else:\n",
    "            num = bin(n)\n",
    "        leng = len(num)\n",
    "        \n",
    "        for i in range(leng):\n",
    "            if num[i] == '1':\n",
    "                count+=1\n",
    "                \n",
    "        if n <0:\n",
    "            count = 32-count\n",
    "            \n",
    "        return count"
   ]
  },
  {
   "cell_type": "code",
   "execution_count": 53,
   "metadata": {},
   "outputs": [
    {
     "name": "stdout",
     "output_type": "stream",
     "text": [
      "8\n",
      "0\n"
     ]
    },
    {
     "data": {
      "text/plain": [
       "2"
      ]
     },
     "execution_count": 53,
     "metadata": {},
     "output_type": "execute_result"
    }
   ],
   "source": [
    "# 书上提供的这种解法在平台上跑这超时，不知道原因\n",
    "# 思路就是 拿n-1和n做与操作能得到这个数从右到左是不是还有1\n",
    "def NumberOf1(n):\n",
    "        # write code here\n",
    "        count = 0\n",
    "        while(n):\n",
    "            count+=1\n",
    "            n = (n-1)&n\n",
    "            print(n)\n",
    "        return count\n",
    "    \n",
    "NumberOf1(9)"
   ]
  },
  {
   "cell_type": "code",
   "execution_count": 54,
   "metadata": {},
   "outputs": [],
   "source": [
    "#11.要点： 1考虑空链表，2链表没有k个数，3快慢指针一次遍历实现\n",
    "class Solution:\n",
    "    def FindKthToTail(self, head, k):\n",
    "        # write code here\n",
    "        node = head\n",
    "        nodePlus = head\n",
    "        if head == None:\n",
    "            return head\n",
    "        for i in range(k):\n",
    "            nodePlus=nodePlus.next\n",
    "            if nodePlus == None and i < k-1:\n",
    "                return None\n",
    "        while(nodePlus!=None):\n",
    "            nodePlus = nodePlus.next\n",
    "            node = node.next\n",
    "        return node   "
   ]
  },
  {
   "cell_type": "code",
   "execution_count": 55,
   "metadata": {},
   "outputs": [],
   "source": [
    "#12. 反转链表 \n",
    "#注意：1.三个指针保存，当前结点，以及前，后结点 2.反转之后生成的结点的最后是个None值\n",
    "class Solution:\n",
    "    # 返回ListNode\n",
    "    def ReverseList(self, head):\n",
    "        # write code here\n",
    "        if head == None or head.next == None:\n",
    "            return head\n",
    "\n",
    "        pre = None\n",
    "        node = head\n",
    "        post = head.next\n",
    "        \n",
    "        while(1):\n",
    "            node.next = pre\n",
    "            pre = node\n",
    "            node = post\n",
    "            if post == None:\n",
    "                return pre\n",
    "            else:\n",
    "                post = post.next\n",
    "                "
   ]
  },
  {
   "cell_type": "code",
   "execution_count": 1,
   "metadata": {},
   "outputs": [],
   "source": [
    "# 13.合并链表\n",
    "# 自己的解法： 用for循环，一个个插入，这样的结束条件难判断\n",
    "# 书上的解法： 比较两个链表的头节点，其中比较小的那个作为新的head，然后新head的next带入下次递归，直到遇到none，返回不为空的那个链表\n",
    "# 这种方法的边界条件和截止条件恰好重合\n",
    "class Solution:\n",
    "    # 返回合并后列表\n",
    "    def Merge(self, pHead1, pHead2):\n",
    "        # write code here\n",
    "        if pHead1 == None:\n",
    "            return pHead2\n",
    "        if pHead2 == None:\n",
    "            return pHead1\n",
    "        \n",
    "        if pHead1.val > pHead2.val:\n",
    "            newHead = pHead2\n",
    "            newHead.next = self.Merge(pHead1,pHead2.next)\n",
    "        else:\n",
    "            newHead = pHead1\n",
    "            newHead.next = self.Merge(pHead1.next,pHead2)\n",
    "            \n",
    "        return newHead"
   ]
  },
  {
   "cell_type": "code",
   "execution_count": 8,
   "metadata": {},
   "outputs": [
    {
     "data": {
      "text/plain": [
       "'\\n一个简单形象，但是时间复杂度比较高的方法\\n循环：\\n打印第一行\\npop第一行\\n矩阵旋转\\n'"
      ]
     },
     "execution_count": 8,
     "metadata": {},
     "output_type": "execute_result"
    }
   ],
   "source": [
    "# 14. 旋转打印矩阵\n",
    "'''\n",
    "书上的解法：\n",
    "首先每圈开始的位置总是（n，n）\n",
    "分析打印终止的条件\n",
    "分析向下，向左，向右打印的条件\n",
    "'''\n",
    "# -*- coding:utf-8 -*-\n",
    "class Solution:\n",
    "    # matrix类型为二维列表，需要返回列表\n",
    "    def printMatrix(self,matrix):\n",
    "        # write code here\n",
    "        rows = len(matrix)\n",
    "        columns = len(matrix[0])\n",
    "        if rows*columns == 0:\n",
    "            return matrix[0]\n",
    "        start = 0\n",
    "        li = []\n",
    "        while(rows>2*start and columns>2*start):\n",
    "            endY = rows-1-start\n",
    "            endX = columns-1-start\n",
    "            for i in range(start,endX+1): \n",
    "                li.append(matrix[start][i])\n",
    "            \n",
    "            if endY > start:\n",
    "                for i in range(start+1,endY+1):\n",
    "                    li.append(matrix[i][endX])\n",
    "            \n",
    "            if endY>start and endX>start:\n",
    "                for i in range(endX-1,start-1,-1):\n",
    "                    li.append(matrix[endY][i])\n",
    "            \n",
    "            if endX>start and endY-start>1:\n",
    "                for i in range(endY-1,start,-1):\n",
    "                    li.append(matrix[i][start])\n",
    "            \n",
    "            start = start+1\n",
    "            \n",
    "        return li\n",
    "    \n",
    "'''\n",
    "一个简单形象，但是时间复杂度比较高的方法\n",
    "循环：\n",
    "打印第一行\n",
    "pop第一行\n",
    "矩阵旋转\n",
    "'''"
   ]
  },
  {
   "cell_type": "code",
   "execution_count": 12,
   "metadata": {},
   "outputs": [],
   "source": [
    "#16. 包含min函数的栈\n",
    "#注意：当stack完成一个pop操作，当前最小值有可能被弹出；如果没有弹出，下次还是返回同样的最小值\n",
    "#解法：设置同样大小的栈，栈顶存储当前最小的值\n",
    "\n",
    "class Solution:\n",
    "    def __init__(self):\n",
    "        self.min_node = float('Inf')\n",
    "        self.stack1 = []\n",
    "        self.stack2 = []\n",
    "    def push(self, node):\n",
    "        # write code here\n",
    "        self.min_node = min(node,self.min_node)\n",
    "        self.stack1.append(node)\n",
    "        self.stack2.append(self.min_node)\n",
    "    def pop(self):\n",
    "        # write code here\n",
    "        self.stack1.pop()\n",
    "        self.stack2.pop()\n",
    "    def top(self):\n",
    "        # write code here\n",
    "        return self.stack1[-1]\n",
    "    def min_pop(self):\n",
    "        # write code here\n",
    "        return self.stack2[-1]"
   ]
  },
  {
   "cell_type": "code",
   "execution_count": 19,
   "metadata": {},
   "outputs": [
    {
     "name": "stdout",
     "output_type": "stream",
     "text": [
      "[1, 2, 3, 5]\n",
      "[1, 2, 3]\n",
      "[1, 2]\n",
      "[1]\n",
      "[]\n"
     ]
    },
    {
     "data": {
      "text/plain": [
       "True"
      ]
     },
     "execution_count": 19,
     "metadata": {},
     "output_type": "execute_result"
    }
   ],
   "source": [
    "#17. 正确的出栈顺序\n",
    "#比书上的算法简单： 下一次出栈的top肯定在push组的对应数字前一个之后的数字中，否则出栈顺序有问题\n",
    "def IsPopOrder(pushV, popV):\n",
    "    # write code here\n",
    "    index = 1\n",
    "    while(popV):\n",
    "        top = popV.pop(0)\n",
    "        if top not in pushV[index-1:]:\n",
    "            return False\n",
    "        index = pushV.index(top)\n",
    "        pushV.pop(index)\n",
    "        print(pushV)\n",
    "        \n",
    "    return True\n",
    "IsPopOrder([1,2,3,4,5],[4,5,3,2,1])"
   ]
  },
  {
   "cell_type": "markdown",
   "metadata": {},
   "source": [
    "题目列表二--2\n",
    "21. 复杂链表的复制\n",
    "22. 字符串的排列\n",
    "23. 数组中出现次数超过一半的数字\n",
    "24. 最小的k个数\n",
    "25. 最大子数组\n",
    "26. 从1到n中1出现的次数\n",
    "27. 把数组排成最小的数\n",
    "28. 丑数 （200页）\n",
    "29. 第一个只出现一次的字符\n",
    "30. 数组中的逆序对\n",
    "31. 两个链表的第一个公共结点\n",
    "32. 数组中只出现一次的数字\n",
    "33. 数组中两个只出现一次的数字\n",
    "34. 和为s的两个数字\n",
    "35. 和为s的连续正数序列\n",
    "36. 反转单词顺序\n",
    "37. 扑克牌顺子\n",
    "38. 圆圈中最后剩下的数字\n",
    "39. 求1+2+3+..\n",
    "40. 不用加减乘除做加法\n",
    "\n"
   ]
  },
  {
   "cell_type": "code",
   "execution_count": 1,
   "metadata": {},
   "outputs": [],
   "source": [
    "# 21. 复杂链表的复制\n",
    "#书上提供的先复制链表结点，再复制random链接，再分裂的方法超时（自己再python上面实现的）\n",
    "#\n",
    "def iter_node(root):\n",
    "        while root:\n",
    "            yield root\n",
    "            root = root.next \n",
    "            #创造一个迭代器，常数内存占用，\n",
    "            #每次调用返回root，下一次从yield的下一句执行\n",
    "            \n",
    "class Solution:\n",
    "    # 返回 RandomListNode\n",
    "    \n",
    "    def Clone(self, pHead):\n",
    "        mem = {}\n",
    "        for i,n in enumerate(iter_node(pHead)):\n",
    "            mem[id(n)]=i #用来做下面list的索引\n",
    "        lst = [RandomListNode(node.label) for node in iter_node(pHead)] #创建一系列零散的结点\n",
    "        for t,f in zip(iter_node(pHead),lst):#构建结点之间的next和random链接\n",
    "            if t.next:\n",
    "                f.next = lst[mem[id(t.next)]]\n",
    "            if t.random:\n",
    "                f.random = lst[mem[id(t.random)]]\n",
    "        return lst[0] if lst else None"
   ]
  },
  {
   "cell_type": "code",
   "execution_count": 2,
   "metadata": {},
   "outputs": [
    {
     "data": {
      "text/plain": [
       "False"
      ]
     },
     "execution_count": 2,
     "metadata": {},
     "output_type": "execute_result"
    }
   ],
   "source": [
    "# 22 字符串的排列\n",
    "# 书上提供的方法是递归，拿第一个字符和后面的字符依次交换，交换后的str的后面的子串再参与递归\n",
    "# python需要用record来记录交换过程，知道待交换的子串的长度为空，那么打印中间过程一步步添加而成的path\n",
    "# 递归的难点在于想清楚哪些变量是参与递归的，以及递归结束返回的结果\n",
    "\n",
    "def printer(left,record,path):\n",
    "    if left == '':\n",
    "        record.append(path)\n",
    "    for i in range(len(left)):\n",
    "        printer(left[:i]+left[i+1:],record,path+left[i])\n",
    "        \n",
    "class Solution:\n",
    "    def Permutation(self, ss):\n",
    "        if len(ss)<=1:\n",
    "            return ss\n",
    "        record = []\n",
    "        printer(ss,record,'')\n",
    "        return sorted(set(record))\n",
    "    \n",
    "# 本题还可以依赖python的迭代器实现\n",
    "import itertools\n",
    "sorted(list(set(map(''.join,itertools.permutations(s))))))\n",
    "\n",
    "#itertools的其他方法\n",
    "#itertools.combinations(iterable, r)\n",
    "#http://www.wklken.me/posts/2013/08/20/python-extra-itertools.html#itertoolspermutationsiterable-r"
   ]
  },
  {
   "cell_type": "code",
   "execution_count": 67,
   "metadata": {},
   "outputs": [],
   "source": [
    "# 23.出现次数超过一般的数字\n",
    "# 从排序的角度，出现次数超过一半的数字就是中位数，采用partition排序找到中位数 o（n）\n",
    "# 从统计的角度，最多的那个数字要比其他数字出现的次数加和大一\n",
    "# 最后要检验一下，出现频率最高的那个数字并没有达到那个标准 \n",
    "\n",
    "#解法二：统计的角度\n",
    "# -*- coding:utf-8 -*-\n",
    "class Solution:\n",
    "    def MoreThanHalfNum_Solution(self, numbers):\n",
    "        # write code here\n",
    "        if len(numbers)==0:\n",
    "            return 0\n",
    "        tar_num = numbers[0]\n",
    "        count = 1\n",
    "        for num in numbers[1:]:\n",
    "            if num == tar_num:\n",
    "                count += 1\n",
    "            else:\n",
    "                count -= 1\n",
    "                if count == 0:\n",
    "                    tar_num = num\n",
    "                    count = 1\n",
    "        if numbers.count(tar_num)>len(numbers)//2:\n",
    "            return tar_num\n",
    "        else:\n",
    "            return 0\n",
    "\n",
    "#用字典记录\n",
    "class Solution:\n",
    "    def MoreThanHalfNum_Solution(self, numbers):\n",
    "        # write code here\n",
    "        count = {}\n",
    "        \n",
    "        for i in numbers:\n",
    "            try :\n",
    "                count[i]+=1\n",
    "                if count[i]>len(numbers)//2:\n",
    "                    return i\n",
    "            except:\n",
    "                count[i]=1\n",
    "        if len(numbers)==1:\n",
    "            return numbers[0]\n",
    "        return 0"
   ]
  },
  {
   "cell_type": "code",
   "execution_count": 24,
   "metadata": {},
   "outputs": [
    {
     "name": "stdout",
     "output_type": "stream",
     "text": [
      "mid 1\n",
      "2\n",
      "[2, 2, 2]\n",
      "index 3\n",
      "1\n",
      "[2, 2, 2]\n",
      "0\n",
      "[2, 2, 2]\n"
     ]
    },
    {
     "data": {
      "text/plain": [
       "2"
      ]
     },
     "execution_count": 24,
     "metadata": {},
     "output_type": "execute_result"
    }
   ],
   "source": [
    "#解法一：从随机快速排序借鉴的partition 不知道为什么在牛课网上运行超时\n",
    "# -*- coding:utf-8 -*-\n",
    "def partition(numbers,start,end):\n",
    "    base = numbers[start]\n",
    "    small = start\n",
    "    for index in range(start+1,end):\n",
    "        if numbers[index]<=numbers[start]:\n",
    "            small += 1\n",
    "            if index != small:\n",
    "                numbers[small],numbers[index]=numbers[index],numbers[small]\n",
    "    numbers[small],numbers[start]=numbers[start],numbers[small]\n",
    "    print(small)\n",
    "    print(numbers)\n",
    "    return small+1\n",
    "    \n",
    "class Solution:\n",
    "    def MoreThanHalfNum_Solution(self, numbers):\n",
    "        # write code here\n",
    "        start = 0\n",
    "        end = len(numbers)\n",
    "        mid = len(numbers)>>1 \n",
    "        if end == 1:\n",
    "            return numbers[0]\n",
    "        print('mid',mid)\n",
    "        index = partition(numbers,start,end)\n",
    "        print('index',index)\n",
    "        while(index!=mid):\n",
    "            if index < mid:\n",
    "                index = partition(numbers,index+1,end)\n",
    "            else:\n",
    "                index = partition(numbers,start,index-1)\n",
    "        tar_num = numbers[mid]\n",
    "        if numbers.count(tar_num)>mid:\n",
    "            return tar_num\n",
    "        else:\n",
    "            return 0\n",
    "            \n",
    "s = Solution()\n",
    "num = [2,2,2]\n",
    "tar = s.MoreThanHalfNum_Solution(num)\n",
    "tar"
   ]
  },
  {
   "cell_type": "code",
   "execution_count": 1,
   "metadata": {},
   "outputs": [],
   "source": [
    "# 24.最小的k个数\n",
    "# 解法一： partition快排k次，返回之前的数据\n",
    "# 解法二：适合大量数据的红黑树\n",
    "# 解法三：不断维护k大的容器\n",
    "\n",
    "## -*- coding:utf-8 -*-\n",
    "class Solution:\n",
    "    def GetLeastNumbers_Solution(self, tinput, k):\n",
    "        result = sorted(tinput[0:k])\n",
    "        if k > len(tinput) or k == 0:\n",
    "            return []\n",
    "        for i in tinput[k:]:\n",
    "            for j in range(len(result)):\n",
    "                if i < result[j]:\n",
    "                    result[j],result[j+1:]=i,result[j:len(result)-1]\n",
    "                    break\n",
    "        return sorted(result)"
   ]
  },
  {
   "cell_type": "code",
   "execution_count": 54,
   "metadata": {},
   "outputs": [
    {
     "data": {
      "text/plain": [
       "25"
      ]
     },
     "execution_count": 54,
     "metadata": {},
     "output_type": "execute_result"
    }
   ],
   "source": [
    "# -*- coding:utf-8 -*-\n",
    "class Solution:\n",
    "    def FindGreatestSumOfSubArray(self, array):\n",
    "        # write code here\n",
    "        start = 0\n",
    "        end = len(array)\n",
    "        if end == 0:\n",
    "            return []\n",
    "        temp = -1*float('Inf')\n",
    "        for i in range(end):\n",
    "            can1 = sum(array[start:i+1])\n",
    "            can2 = array[i]\n",
    "            maxN = max(can1,can2,temp)\n",
    "            if maxN == can2:\n",
    "                start = i\n",
    "            temp = maxN\n",
    "        return temp\n",
    "s = Solution()\n",
    "s.FindGreatestSumOfSubArray([2,8,1,5,9])"
   ]
  },
  {
   "cell_type": "code",
   "execution_count": 32,
   "metadata": {},
   "outputs": [
    {
     "data": {
      "text/plain": [
       "[1]"
      ]
     },
     "execution_count": 32,
     "metadata": {},
     "output_type": "execute_result"
    }
   ],
   "source": [
    "# 解法一 不知道为什么在牛课网上运行超时\n",
    "# -*- coding:utf-8 -*-\n",
    "def partition(nums,start,end):\n",
    "    base = nums[start]\n",
    "    small = start\n",
    "    for i in nums[start+1:end]:\n",
    "        if nums[i] < base:\n",
    "            small += 1\n",
    "            if i != small :\n",
    "                nums[i],nums[small]=nums[small],nums[i]\n",
    "    nums[small],nums[start]=nums[start],nums[small]\n",
    "    small += 1\n",
    "    return small \n",
    "class Solution:\n",
    "    def GetLeastNumbers_Solution(self, tinput, k):\n",
    "        # write code here\n",
    "        start = 0\n",
    "        end = len(tinput)-1\n",
    "        index = partition(tinput,start,end)\n",
    "        \n",
    "        if k ==0 or k>end+1:\n",
    "            return []\n",
    "        while(index != k):\n",
    "            if index>k:\n",
    "                index = partition(tinput,start,index-1)\n",
    "            else:\n",
    "                index = partition(tinput,index+1,end)\n",
    "        return tinput[:k]\n",
    "    \n",
    "s = Solution()\n",
    "num = [1]\n",
    "tar = s.GetLeastNumbers_Solution(num,1)\n",
    "tar"
   ]
  },
  {
   "cell_type": "code",
   "execution_count": 41,
   "metadata": {},
   "outputs": [
    {
     "data": {
      "text/plain": [
       "18"
      ]
     },
     "execution_count": 41,
     "metadata": {},
     "output_type": "execute_result"
    }
   ],
   "source": [
    "#25. 最大子数组\n",
    "#递归的方法，cumsum【i】记录了以第i个数结尾的子数组的最大和\n",
    "def GreatestSumSubarray(nums):\n",
    "    if len(nums) == 0:\n",
    "        return None\n",
    "    cumsum = []\n",
    "    cumsum.append(nums[0])\n",
    "    for i in range(1,len(nums)):\n",
    "        if cumsum[i-1] >0 :\n",
    "            cumsum.append(cumsum[i-1]+nums[i])\n",
    "        else:\n",
    "            cumsum.append(nums[i])\n",
    "    return max(cumsum)\n",
    "GreatestSumSubarray([1,-2,3,10,-4,7,2,-5])"
   ]
  },
  {
   "cell_type": "code",
   "execution_count": 144,
   "metadata": {},
   "outputs": [
    {
     "data": {
      "text/plain": [
       "0"
      ]
     },
     "execution_count": 144,
     "metadata": {},
     "output_type": "execute_result"
    }
   ],
   "source": [
    "# 26.从1到n整数中1出现的次数\n",
    "# -*- coding:utf-8 -*-\n",
    "def num2lst(numbers):\n",
    "    if numbers == 0:\n",
    "        return [0]\n",
    "    lst = []\n",
    "    while(numbers):\n",
    "        lst.append(numbers%10)\n",
    "        numbers = numbers//10\n",
    "    return lst\n",
    "def numbersof1(lst):\n",
    "    #递归终止条件\n",
    "    if lst == []: \n",
    "        return 0\n",
    "    if len(lst)==1 and lst[0]==0:\n",
    "        return 0\n",
    "    if len(lst)==1 and lst[0]>=1:\n",
    "        return 1\n",
    "    \n",
    "    if lst[-1]>1:\n",
    "        NumFirstDigit = 10**(len(lst)-1)\n",
    "    elif lst[-1]==1:\n",
    "        NumFirstDigit = sum([i*10**lst.index(i) for i in lst[:-1]])+1\n",
    "    else:\n",
    "        NumFirstDigit = 0\n",
    "    NumOtherDigit = lst[-1]*10**(len(lst)-2)*(len(lst)-1) \n",
    "    NumOfRecursion = numbersof1(lst[:-1])\n",
    "\n",
    "    return NumFirstDigit+NumOtherDigit+NumOfRecursion\n",
    "class Solution:\n",
    "    def NumberOf1Between1AndN_Solution(self, numbers):\n",
    "        lst = num2lst(numbers)\n",
    "        return numbersof1(lst)\n",
    "        # write code here\n",
    "Solution().NumberOf1Between1AndN_Solution(0)\n",
    "#注意边界条件0，1还有1000这种"
   ]
  },
  {
   "cell_type": "code",
   "execution_count": 56,
   "metadata": {},
   "outputs": [
    {
     "data": {
      "text/plain": [
       "'\\n设N = abcde ,其中abcde分别为十进制中各位上的数字。\\n如果要计算百位上1出现的次数，它要受到3方面的影响：百位上的数字，百位以下（低位）的数字，百位以上（高位）的数字。\\n① 如果百位上数字为0，百位上可能出现1的次数由更高位决定。比如：12013，则可以知道百位出现1的情况可能是：100~199，1100~1199,2100~2199，，...，11100~11199，一共1200个。可以看出是由更高位数字（12）决定，并且等于更高位数字（12）乘以 当前位数（100）。\\n② 如果百位上数字为1，百位上可能出现1的次数不仅受更高位影响还受低位影响。比如：12113，则可以知道百位受高位影响出现的情况是：100~199，1100~1199,2100~2199，，....，11100~11199，一共1200个。和上面情况一样，并且等于更高位数字（12）乘以 当前位数（100）。但同时它还受低位影响，百位出现1的情况是：12100~12113,一共114个，等于低位数字（113）+1。\\n③ 如果百位上数字大于1（2~9），则百位上出现1的情况仅由更高位决定，比如12213，则百位出现1的情况是：100~199,1100~1199，2100~2199，...，11100~11199,12100~12199,一共有1300个，并且等于更高位数字+1（12+1）乘以当前位数（100）。\\n'"
      ]
     },
     "execution_count": 56,
     "metadata": {},
     "output_type": "execute_result"
    }
   ],
   "source": [
    "# 26. 简便解法\n",
    "def NumberOf1Between1AndN_Solution(self, n):\n",
    "    # write code here\n",
    "    temp = n\n",
    "    base = 1\n",
    "    res = 0\n",
    "    while(temp):\n",
    "        last = temp%10 \n",
    "        temp = temp//10\n",
    "        res += temp*base\n",
    "        if last == 1:\n",
    "            res += n%base+1\n",
    "        if last >1:\n",
    "            res += base\n",
    "        base = base*10\n",
    "    return res\n",
    "'''\n",
    "设N = abcde ,其中abcde分别为十进制中各位上的数字。\n",
    "如果要计算百位上1出现的次数，它要受到3方面的影响：百位上的数字，百位以下（低位）的数字，百位以上（高位）的数字。\n",
    "① 如果百位上数字为0，百位上可能出现1的次数由更高位决定。比如：12013，则可以知道百位出现1的情况可能是：100~199，1100~1199,2100~2199，，...，11100~11199，一共1200个。可以看出是由更高位数字（12）决定，并且等于更高位数字（12）乘以 当前位数（100）。\n",
    "② 如果百位上数字为1，百位上可能出现1的次数不仅受更高位影响还受低位影响。比如：12113，则可以知道百位受高位影响出现的情况是：100~199，1100~1199,2100~2199，，....，11100~11199，一共1200个。和上面情况一样，并且等于更高位数字（12）乘以 当前位数（100）。但同时它还受低位影响，百位出现1的情况是：12100~12113,一共114个，等于低位数字（113）+1。\n",
    "③ 如果百位上数字大于1（2~9），则百位上出现1的情况仅由更高位决定，比如12213，则百位出现1的情况是：100~199,1100~1199，2100~2199，...，11100~11199,12100~12199,一共有1300个，并且等于更高位数字+1（12+1）乘以当前位数（100）。\n",
    "'''"
   ]
  },
  {
   "cell_type": "code",
   "execution_count": 145,
   "metadata": {},
   "outputs": [
    {
     "data": {
      "text/plain": [
       "89"
      ]
     },
     "execution_count": 145,
     "metadata": {},
     "output_type": "execute_result"
    }
   ],
   "source": [
    "#27把数组排成最小的数\n",
    "#重新定义大小，如果mn>nm那么m>n\n",
    "#使用快排把按照这种比较方式的数组排列\n",
    "#从小到大串联起来\n",
    "# -*- coding:utf-8 -*-\n",
    "def partition(numbers,start,end):\n",
    "    base = numbers[start]\n",
    "    small = start\n",
    "    for i in range(start+1,end):\n",
    "        if compare(numbers[i],base)==True :# numbers[i]<base\n",
    "            small +=1\n",
    "            if small != i:\n",
    "                numbers[i],numbers[small]=numbers[small],numbers[i]\n",
    "    numbers[small],numbers[start]=numbers[start],numbers[small]\n",
    "    return small+1\n",
    "def compare(n1,n2):\n",
    "    if int(str(n1)+str(n2))>int(str(n2)+str(n1)):\n",
    "        return False\n",
    "    else:\n",
    "        return True\n",
    "def quicksort(numbers,start,end):\n",
    "    if end > start:\n",
    "        index = partition(numbers,start,end)\n",
    "        quicksort(numbers,start,index-1)\n",
    "        quicksort(numbers,index+1,end)\n",
    "class Solution:\n",
    "    def PrintMinNumber(self, numbers):\n",
    "        if len(numbers)==1:\n",
    "            return numbers[0]\n",
    "        if len(numbers)==0:\n",
    "            return ''\n",
    "        start = 0\n",
    "        end = len(numbers)\n",
    "        quicksort(numbers,start,end)\n",
    "        re = ''\n",
    "        for i in numbers:\n",
    "            re += str(i)\n",
    "        return int(re)"
   ]
  },
  {
   "cell_type": "code",
   "execution_count": 68,
   "metadata": {},
   "outputs": [],
   "source": [
    "#27 用permutations的方法 (28ms)\n",
    "# -*- coding:utf-8 -*-\n",
    "import itertools\n",
    "class Solution:\n",
    "    def PrintMinNumber(self, numbers):\n",
    "        # write code here\n",
    "        result = []\n",
    "        if numbers == []:\n",
    "            return ''\n",
    "        for i in itertools.permutations(numbers):\n",
    "            res = ''\n",
    "            for num in i:\n",
    "                res += str(num)\n",
    "            result.append(int(res))\n",
    "        return min(result)"
   ]
  },
  {
   "cell_type": "code",
   "execution_count": 69,
   "metadata": {},
   "outputs": [],
   "source": [
    "# 27 用lambda的方法（25ms）\n",
    "import itertools\n",
    "class Solution:\n",
    "    def PrintMinNumber(self, numbers):\n",
    "        # write code here\n",
    "        if numbers == []:\n",
    "            return ''\n",
    "        cpf = lambda n1,n2:int(str(n1)+str(n2))-int(str(n2)+str(n1))\n",
    "        numbers = sorted(numbers,cmp = cpf)\n",
    "        return ''.join([str(i) for i in numbers])"
   ]
  },
  {
   "cell_type": "code",
   "execution_count": 71,
   "metadata": {},
   "outputs": [
    {
     "name": "stdout",
     "output_type": "stream",
     "text": [
      "[2, 3, 4, 5, 6, 8, 9]\n"
     ]
    },
    {
     "data": {
      "text/plain": [
       "9"
      ]
     },
     "execution_count": 71,
     "metadata": {},
     "output_type": "execute_result"
    }
   ],
   "source": [
    "#28丑数 \n",
    "#维护t2,t3,t5，这三个生成新的丑数需要的备选index\n",
    "#比原答案多的地方是 lst更新存储，节省存储空间\n",
    "# -*- coding:utf-8 -*-\n",
    "class Solution:\n",
    "    def GetUglyNumber_Solution(self, index):\n",
    "        \n",
    "        lst = [0,1,2,3,4]\n",
    "        if index in lst:\n",
    "            return index\n",
    "        \n",
    "        t2 = 3 # ti 都满足 lst[ti]*i>lst[-1]\n",
    "        t3 = 2\n",
    "        t5 = 1\n",
    "        \n",
    "        count = 4\n",
    "        while(count<index):\n",
    "            t2F = False\n",
    "            t3F = False\n",
    "            t5F = False\n",
    "            lst.append(min(lst[t2]*2,lst[t3]*3,lst[t5]*5)) # 选择一个最贴近lst[-1]的数\n",
    "            count +=1  \n",
    "            lst = lst[min(t2,t3,t5):] #为了减少计算时间复杂度\n",
    "            # 维护t2,t3,t5\n",
    "            for i in range(len(lst)):\n",
    "                if lst[i]*2>lst[-1] and t2F == False:\n",
    "                    t2 = i\n",
    "                    t2F = True\n",
    "                if lst[i]*3>lst[-1] and t3F == False:\n",
    "                    t3 = i\n",
    "                    t3F = True\n",
    "                if lst[i]*5>lst[-1] and t5F == False:\n",
    "                    t5 = i\n",
    "                    t5F = True\n",
    "        print(lst)    \n",
    "        return lst[-1]\n",
    "Solution().GetUglyNumber_Solution(8)            "
   ]
  },
  {
   "cell_type": "code",
   "execution_count": 1,
   "metadata": {},
   "outputs": [],
   "source": [
    "#29第一个只出现一次的字符\n",
    "# 学会自己建立哈希表\n",
    "# -*- coding:utf-8 -*-\n",
    "class Solution:\n",
    "    def FirstNotRepeatingChar(self, s):\n",
    "        # write code here\n",
    "        if len(s)==0:\n",
    "            return -1\n",
    "        for i in s:\n",
    "            if s.count(i)==1:\n",
    "                return s.index(i)\n",
    "        return -1\n",
    "\n",
    "#500ms \n",
    "class Solution:\n",
    "    def FirstNotRepeatingChar(self, s):\n",
    "        # write code here\n",
    "        if len(s)==0:\n",
    "            return -1\n",
    "        dic = {}\n",
    "        res=[]\n",
    "        for i in s:\n",
    "            try:\n",
    "                dic[i]+= 1\n",
    "            except:\n",
    "                dic[i]=1\n",
    "        for i in iter(dic):\n",
    "            if dic[i]==1:\n",
    "                res.append(s.index(i))\n",
    "        return min(res) if res else -1\n",
    "    \n",
    "#这种方法在python2环境输出的是l\n",
    "class Solution:\n",
    "    def FirstNotRepeatingChar(self, s):\n",
    "        # write code here\n",
    "        if len(s)==0:\n",
    "            return -1\n",
    "        num_dict = {}\n",
    "        for i in s:\n",
    "            if i not in num_dict.keys():\n",
    "                num_dict[i]=1\n",
    "            else:\n",
    "                num_dict[i]+=1\n",
    "        for j in num_dict.keys():\n",
    "            if num_dict[j]==1:\n",
    "                return s.index(j)\n",
    "        return -1\n",
    "s = Solution()\n",
    "s.FirstNotRepeatingChar('google')"
   ]
  },
  {
   "cell_type": "code",
   "execution_count": 61,
   "metadata": {},
   "outputs": [
    {
     "name": "stdout",
     "output_type": "stream",
     "text": [
      "0 7 3\n",
      "0 3 1\n",
      "0 1 0\n",
      "p1,p2,start,mid 0 0 0 0\n",
      "seq after merge [1, 2]\n",
      "count 0\n",
      "2 3 2\n",
      "p1,p2,start,mid 2 2 2 2\n",
      "seq after merge [3, 4]\n",
      "count 0\n",
      "p1,p2,start,mid 1 1 0 1\n",
      "seq after merge [1, 2, 3, 4]\n",
      "count 0\n",
      "4 7 5\n",
      "4 5 4\n",
      "p1,p2,start,mid 4 4 4 4\n",
      "seq after merge [5, 6]\n",
      "count 0\n",
      "6 7 6\n",
      "p1,p2,start,mid 5 7 6 6\n",
      "seq after merge [0, 7]\n",
      "count 1\n",
      "p1,p2,start,mid 3 6 4 5\n",
      "seq after merge [0, 5, 6, 7]\n",
      "count 2\n",
      "p1,p2,start,mid -1 4 0 3\n",
      "seq after merge [0, 1, 2, 3, 4, 5, 6, 7]\n",
      "count 4\n"
     ]
    },
    {
     "data": {
      "text/plain": [
       "7"
      ]
     },
     "execution_count": 61,
     "metadata": {},
     "output_type": "execute_result"
    }
   ],
   "source": [
    "#30数组中的逆序对\n",
    "# 基于归并排序的基础上，先拆成两两的列表，然后分别统计左右list里面的逆序对数（递归，终止条件是只有一个数字或者没有数字）\n",
    "# 再合并两个列表的事后，一边排序到tmp一边统计合并中产生的逆序对数，因为合并的时候都是排好序的子list，\n",
    "# 所以可以采用一些规则得到逆序对的个数而不用一一比较，要把所有的cnt累加\n",
    "\n",
    "# 自己写的这个不能通过所有的测试\n",
    "#边界控制的比较复杂\n",
    "def mergecount(seq,start,end):\n",
    "    pairsum = 0\n",
    "    if start<end:\n",
    "        mid = (start+end)>>1\n",
    "        print(start,end,mid)\n",
    "        pairsum += mergecount(seq,start,mid)\n",
    "        pairsum += mergecount(seq,mid+1,end)\n",
    "        pairsum += mergebetween(seq,start,mid,end)\n",
    "    return pairsum\n",
    "def mergebetween(seq,start,mid,end):\n",
    "    result = seq[start:end+1] \n",
    "    count = 0\n",
    "    p1 = mid\n",
    "    p2 = end\n",
    "    i = len(result)-1\n",
    "    while(p1>=start and p2>mid):\n",
    "        if seq[p1]>seq[p2]:\n",
    "            count+=i+start-p1\n",
    "            result[i]=seq[p1]\n",
    "            i -= 1\n",
    "            p1 -= 1\n",
    "        else:\n",
    "            result[i]=seq[p2]\n",
    "            i -= 1\n",
    "            p2 -= 1\n",
    "       \n",
    "    print('p1,p2,start,mid',p1,p2,start,mid) \n",
    "    if p1>start+1 :\n",
    "        result[:i]=seq[start:p1+1]\n",
    "    if p2>mid :\n",
    "        result[:i+1]=seq[mid+1:p2+1]\n",
    "    \n",
    "    seq[start:end+1]=result\n",
    "    \n",
    "    print('seq after merge',result)\n",
    "    print('count',count)\n",
    "    \n",
    "    return count\n",
    "            \n",
    "mergecount([1,2,3,4,5,6,7,0],0,7)"
   ]
  },
  {
   "cell_type": "code",
   "execution_count": 93,
   "metadata": {},
   "outputs": [],
   "source": [
    "# 归并排序的升级版，归并产生的tmp覆盖掉data，在调用函数传参\n",
    "class Solution:\n",
    "    def InversePairs(self, data):\n",
    "        # write code here\n",
    "        end = len(data)-1\n",
    "        return self.inversecore(data[:],0,end,data[:])%1000000007 # !!如果这里不采用深拷贝，结果不对，赋值的时候会出现问题\n",
    "        #return self.inverseCount(data, 0, len(data)-1, data)%1000000007\n",
    "    \n",
    "    def inversecore(self,tmp,start,end,data):\n",
    "        if end-start < 1:\n",
    "            return 0\n",
    "        if end - start == 1:\n",
    "            if data[start]>data[end]:\n",
    "                tmp[start],tmp[end]=data[end],data[start]\n",
    "                return 1\n",
    "            else:\n",
    "                return 0\n",
    "            \n",
    "        mid = (start+end)>>1\n",
    "        #cnt = self.inversecore(tmp,start,mid,data)+self.inversecore(tmp,mid+1,end,data)\n",
    "        cnt = self.inversecore(data,start,mid,tmp)+self.inversecore(data,mid+1,end,tmp)\n",
    "        \n",
    "        i = start\n",
    "        j = mid+1\n",
    "        inx = start\n",
    "        print(start, mid, end, cnt, data)\n",
    "        while(i<=mid and j <=end):\n",
    "            if data[i]<=data[j]:\n",
    "                tmp[inx]=data[i]\n",
    "                i+=1\n",
    "            else:\n",
    "                tmp[inx]=data[j]\n",
    "                cnt += mid-i+1\n",
    "                j += 1\n",
    "            inx+=1\n",
    "            \n",
    "        while(i<=mid):\n",
    "            tmp[inx]=data[i]\n",
    "            i+=1\n",
    "            inx+=1\n",
    "        while(j<=end):\n",
    "            tmp[inx]=data[j]\n",
    "            inx += 1\n",
    "            j += 1\n",
    "            \n",
    "        return cnt"
   ]
  },
  {
   "cell_type": "code",
   "execution_count": 94,
   "metadata": {},
   "outputs": [
    {
     "name": "stdout",
     "output_type": "stream",
     "text": [
      "0 1 2 1 [5, 7, 6, 4, 0]\n",
      "0 2 4 3 [5, 6, 7, 0, 4]\n"
     ]
    },
    {
     "data": {
      "text/plain": [
       "9"
      ]
     },
     "execution_count": 94,
     "metadata": {},
     "output_type": "execute_result"
    }
   ],
   "source": [
    "s = Solution()\n",
    "s.InversePairs([7,5,6,4,0])"
   ]
  },
  {
   "cell_type": "code",
   "execution_count": null,
   "metadata": {},
   "outputs": [],
   "source": [
    "#31 两个链表中第一个公共结点\n",
    "#比较链表的长度，从两个具有公共长度的结点开始比较查找\n",
    "class Solution:\n",
    "    def FindFirstCommonNode(self, pHead1, pHead2):\n",
    "        # write code here\n",
    "        p1,p2 = pHead1,pHead2\n",
    "        l1=l2=0\n",
    "        \n",
    "        while p1:\n",
    "            l1+=1\n",
    "            p1=p1.next\n",
    "        while p2:\n",
    "            l2+=1\n",
    "            p2=p2.next\n",
    "            \n",
    "        diff = l1-l2\n",
    "        if diff >0:\n",
    "            p_l,p_s = pHead1,pHead2\n",
    "        else:\n",
    "            p_l,p_s = pHead2,pHead1\n",
    "        \n",
    "        for i in range(abs(diff)):\n",
    "            p_l = p_l.next\n",
    "        \n",
    "        while p_l:\n",
    "            if p_l == p_s:\n",
    "                return p_l\n",
    "            else:\n",
    "                p_l=p_l.next\n",
    "                p_s=p_s.next\n",
    "        return p_l\n"
   ]
  },
  {
   "cell_type": "code",
   "execution_count": 1,
   "metadata": {},
   "outputs": [],
   "source": [
    "#32 数字在排序数组中出现的次数\n",
    "# 自己的想法 -- 二分查找\n",
    "class Solution:\n",
    "    def binary(self,li,tar):\n",
    "        head=0\n",
    "        tail=len(li)-1\n",
    "        while(tail>=head):\n",
    "            mid =(head+tail)//2\n",
    "            if li[mid]>tar:\n",
    "                tail = mid-1\n",
    "            elif li[mid]<tar:\n",
    "                head = mid+1\n",
    "            else: \n",
    "                return mid\n",
    "        \n",
    "    def GetNumberOfK(self, data, k):\n",
    "        # write code here\n",
    "        if not data:\n",
    "            return 0\n",
    "        end = len(data)-1\n",
    "        index = self.binary(data,k)\n",
    "        if index == None:\n",
    "            return 0\n",
    "        count = 1\n",
    "        index_min = index-1\n",
    "        index_max = index+1\n",
    "        while index_min >= 0:\n",
    "            if data[index_min]==k:\n",
    "                count += 1\n",
    "                index_min -= 1\n",
    "            else:\n",
    "                break\n",
    "\n",
    "        while index_max <= end:\n",
    "            if data[index_max]==k:\n",
    "                count+=1\n",
    "                index_max += 1\n",
    "            else:\n",
    "                break\n",
    "        return count"
   ]
  },
  {
   "cell_type": "code",
   "execution_count": 7,
   "metadata": {},
   "outputs": [
    {
     "data": {
      "text/plain": [
       "[4, 6]"
      ]
     },
     "execution_count": 7,
     "metadata": {},
     "output_type": "execute_result"
    }
   ],
   "source": [
    "#33 数组中两个只出现一次的数据\n",
    "# 我的解法 基于归并排序的基础上，遇到相同的数字，抵消掉，result只记录不同的数字，最后返回result\n",
    "class Solution:\n",
    "    # 返回[a,b] 其中ab是出现一次的两个数字\n",
    "    def merge(self,left,right):\n",
    "        i = 0\n",
    "        j = 0\n",
    "        result = []\n",
    "        while(i<len(left) and j <len(right)):\n",
    "            if left[i] == right[j]:\n",
    "                i+=1\n",
    "                j+=1\n",
    "            elif left[i]>right[j]:\n",
    "                result.append(right[j])\n",
    "                j+=1\n",
    "            else:\n",
    "                result.append(left[i])\n",
    "                i+=1\n",
    "        if i<len(left):\n",
    "            result+=left[i:] #注意两个数组可以直接想加\n",
    "        if j<len(right):\n",
    "            result+=right[j:]\n",
    "        #print('result',result)\n",
    "        return result\n",
    "    \n",
    "    def FindNumsAppearOnce(self, array):\n",
    "        # write code here\n",
    "        le = len(array)\n",
    "        if le <=1:\n",
    "            return array\n",
    "        mid = le//2\n",
    "        left = self.FindNumsAppearOnce(array[:mid])\n",
    "        right = self.FindNumsAppearOnce(array[mid:])\n",
    "        return self.merge(left,right)\n",
    "s = Solution()\n",
    "s.FindNumsAppearOnce([2,4,3,6,3,2,5,5])"
   ]
  },
  {
   "cell_type": "code",
   "execution_count": 43,
   "metadata": {},
   "outputs": [
    {
     "name": "stdout",
     "output_type": "stream",
     "text": [
      "测试异或模块\n",
      "2\n",
      "4\n",
      "测试找倒数第x位是1\n",
      "1\n"
     ]
    },
    {
     "data": {
      "text/plain": [
       "'1'"
      ]
     },
     "execution_count": 43,
     "metadata": {},
     "output_type": "execute_result"
    }
   ],
   "source": [
    "print('测试异或模块')\n",
    "print(4^6)\n",
    "print(3^3^4)\n",
    "print('测试找倒数第x位是1')\n",
    "num = 2\n",
    "for i,j in enumerate(reversed(list(bin(num)))):\n",
    "            if i == 1:\n",
    "                point = j\n",
    "                break\n",
    "print(j)\n",
    "list(bin(num))[-(int(j)+1)]"
   ]
  },
  {
   "cell_type": "code",
   "execution_count": 44,
   "metadata": {},
   "outputs": [
    {
     "data": {
      "text/plain": [
       "[6, 4]"
      ]
     },
     "execution_count": 44,
     "metadata": {},
     "output_type": "execute_result"
    }
   ],
   "source": [
    "#解法2:运用异或得到分割数组的依据，再分别对两个数组异或\n",
    "class Solution:\n",
    "    # 返回[a,b] 其中ab是出现一次的两个数字\n",
    "    def FindNumsAppearOnce(self, array):\n",
    "        # write code here\n",
    "        le = len(array)\n",
    "        if le<=1:\n",
    "            return array\n",
    "        #异或所有数字，找到分割数组的依据\n",
    "        split = array[0]\n",
    "        for i in array[1:]:\n",
    "            split = split^i\n",
    "        #split 的倒数第 point位为1\n",
    "        for i,j in enumerate(reversed(list(bin(split)))):\n",
    "            if i == 1:\n",
    "                break\n",
    "        #分成两个子数组\n",
    "        sub1 = []\n",
    "        sub2 = []\n",
    "        for i in array:\n",
    "            if list(bin(i))[-(int(j)+1)]=='1':\n",
    "                sub1.append(i)\n",
    "            else:\n",
    "                sub2.append(i)\n",
    "        #分别对两个子数组连续求异或\n",
    "        result1 = sub1[0]\n",
    "        for i in sub1[1:]:\n",
    "            result1=result1^i\n",
    "        result2 = sub2[0]\n",
    "        for i in sub2[1:]:\n",
    "            result2=result2^i\n",
    "        return [result1,result2]\n",
    "s = Solution()\n",
    "s.FindNumsAppearOnce([2,4,3,6,3,2,5,5])"
   ]
  },
  {
   "cell_type": "code",
   "execution_count": 45,
   "metadata": {},
   "outputs": [],
   "source": [
    "#34 和为s的两个数\n",
    "#offer的解法：从两头向中间依次查找\n",
    "class Solution:\n",
    "    def FindNumbersWithSum(self, array, tsum):\n",
    "        # write code here\n",
    "        if array ==0 or len(array)==1:\n",
    "            return None\n",
    "        small = 0\n",
    "        big = len(array)-1\n",
    "        while(small<big):\n",
    "            temp = array[small]+array[big]\n",
    "            if temp==tsum:\n",
    "                return [array[small],array[big]]\n",
    "            if temp>tsum: #和比较大，从较大的数向前查找\n",
    "                big -= 1\n",
    "            else:\n",
    "                small += 1\n",
    "        return []"
   ]
  },
  {
   "cell_type": "code",
   "execution_count": 57,
   "metadata": {},
   "outputs": [
    {
     "data": {
      "text/plain": [
       "[[1, 2, 3, 4, 5], [4, 5, 6], [7, 8]]"
      ]
     },
     "execution_count": 57,
     "metadata": {},
     "output_type": "execute_result"
    }
   ],
   "source": [
    "#35 和为s的连续正数序列\n",
    "# 依旧是大小两个指针，注意更新方式\n",
    "class Solution:\n",
    "    def FindContinuousSequence(self, tsum):\n",
    "        # write code here\n",
    "        if tsum <3:\n",
    "            return []\n",
    "        small = 1\n",
    "        big = 2\n",
    "        result = []\n",
    "        while(small < (1+tsum)//2 and big >small):\n",
    "            #print('small big',small ,big)\n",
    "            result_t = []\n",
    "            for i in range(small,big+1):\n",
    "                result_t.append(i)\n",
    "            temp = sum(result_t)\n",
    "            #print('temp',temp)\n",
    "            if temp == tsum:\n",
    "                result.append(result_t)\n",
    "                small += 1\n",
    "            elif temp > tsum:\n",
    "                small += 1\n",
    "            else:\n",
    "                big += 1\n",
    "        return result\n",
    "Solution.FindContinuousSequence(_,15)"
   ]
  },
  {
   "cell_type": "code",
   "execution_count": 60,
   "metadata": {},
   "outputs": [
    {
     "data": {
      "text/plain": [
       "'s b'"
      ]
     },
     "execution_count": 60,
     "metadata": {},
     "output_type": "execute_result"
    }
   ],
   "source": [
    "#36 反转单词顺序\n",
    "class Solution:\n",
    "    def ReverseSentence(self, s):\n",
    "        # write code here\n",
    "        s = s.split(' ')\n",
    "        return ' '.join(s[::-1])\n",
    "' '.join(['s','b'])\n",
    "# 37"
   ]
  },
  {
   "cell_type": "code",
   "execution_count": 11,
   "metadata": {},
   "outputs": [],
   "source": [
    "#37 判断5张牌是否是顺子\n",
    "# -*- coding:utf-8 -*-\n",
    "class Solution:\n",
    "    def IsContinuous(self, numbers):\n",
    "        # write code here\n",
    "        if len(numbers)<5:\n",
    "            return False\n",
    "        numbers = sorted(numbers)\n",
    "        count_zero = 0\n",
    "        gap = 0\n",
    "        for i in range(4):\n",
    "            if numbers[i]==0:\n",
    "                count_zero +=1 \n",
    "            elif numbers[i+1]==numbers[i]:\n",
    "                return False\n",
    "            else:\n",
    "                gap += numbers[i+1]-numbers[i]-1\n",
    "        if gap <= count_zero:\n",
    "            return True\n",
    "        else:\n",
    "            return False\n"
   ]
  },
  {
   "cell_type": "code",
   "execution_count": 12,
   "metadata": {},
   "outputs": [
    {
     "name": "stdout",
     "output_type": "stream",
     "text": [
      "[1, 2, 3, 4, 5]\n",
      "0 0\n",
      "0 0\n",
      "0 0\n",
      "0 0\n"
     ]
    },
    {
     "data": {
      "text/plain": [
       "True"
      ]
     },
     "execution_count": 12,
     "metadata": {},
     "output_type": "execute_result"
    }
   ],
   "source": [
    "# -*- coding:utf-8 -*-\n",
    "class Solution:\n",
    "    def IsContinuous(self, numbers):\n",
    "        # write code here\n",
    "        if len(numbers)<5:\n",
    "            return False\n",
    "        numbers = sorted(numbers)\n",
    "        print(numbers)\n",
    "        count_zero = 0\n",
    "        gap = 0\n",
    "        for i in range(0,4):\n",
    "            if numbers[i]==0:\n",
    "                count_zero +=1 \n",
    "            else :\n",
    "                gap += numbers[i+1]-numbers[i]-1\n",
    "            print(gap,count_zero)\n",
    "        if gap <= count_zero:\n",
    "            return True\n",
    "        else:\n",
    "            return False\n",
    "Solution().IsContinuous([1,3,2,5,4])        \n",
    "        \n",
    "        "
   ]
  },
  {
   "cell_type": "code",
   "execution_count": 14,
   "metadata": {},
   "outputs": [
    {
     "data": {
      "text/plain": [
       "[1, 2]"
      ]
     },
     "execution_count": 14,
     "metadata": {},
     "output_type": "execute_result"
    }
   ],
   "source": [
    "#38圆圈中最后剩下的数\n",
    "#方法1(offer)用环形链表模拟圆圈\n",
    "#方法2 自己推断的算法，已经ac\n",
    "class Solution:\n",
    "    def LastRemaining_Solution(self, n, m):\n",
    "        # write code here\n",
    "        \n",
    "        #创造链表\n",
    "        if n == 0:\n",
    "            return -1\n",
    "        num_list = []\n",
    "        for i in range(n):\n",
    "            num_list.append(i)\n",
    "        start = 0\n",
    "        \n",
    "        while(len(num_list)>1):\n",
    "            pop_pos = (start+m)%len(num_list)-1 # 要删除的列表位置\n",
    "            if pop_pos>0 and pop_pos<len(num_list)-1: #如果该位置位于中间，那么下次迭代，列表要从中间开始\n",
    "                start = pop_pos\n",
    "            else:start = 0 #表示删除位置位于开始或者结尾\n",
    "            num_list.pop(pop_pos)\n",
    "        return num_list[0]"
   ]
  },
  {
   "cell_type": "code",
   "execution_count": 16,
   "metadata": {},
   "outputs": [
    {
     "name": "stdout",
     "output_type": "stream",
     "text": [
      "0 4\n",
      "4 0\n"
     ]
    },
    {
     "data": {
      "text/plain": [
       "4"
      ]
     },
     "execution_count": 16,
     "metadata": {},
     "output_type": "execute_result"
    }
   ],
   "source": [
    "#39 不用加法做加减乘除\n",
    "class Solution:\n",
    "    def Add(self, num1, num2):\n",
    "\n",
    "        while(num2):\n",
    "            summ = num1^num2\n",
    "            carry = (num1 & num2)<<1\n",
    "\n",
    "            num1 = summ\n",
    "            num2 = carry \n",
    "            print(num1,num2)\n",
    "        return num1\n",
    "Solution().Add(2,2)"
   ]
  },
  {
   "cell_type": "code",
   "execution_count": 21,
   "metadata": {},
   "outputs": [
    {
     "data": {
      "text/plain": [
       "False"
      ]
     },
     "execution_count": 21,
     "metadata": {},
     "output_type": "execute_result"
    }
   ],
   "source": [
    "#找到任意一个重复数字 \n",
    "#这个答案可能不对哦\n",
    "class Solution:\n",
    "    # 这里要特别注意~找到任意重复的一个值并赋值到duplication[0]\n",
    "    # 函数返回True/False\n",
    "    def duplicate(self, numbers, duplication):\n",
    "        # write code here\n",
    "         \n",
    "        for i in range(len(numbers)):\n",
    "            if numbers[i] != i:\n",
    "                temp = numbers[numbers[i]]\n",
    "                if temp == numbers[i]:\n",
    "                    duplication[0] = numbers[i]\n",
    "                    print(temp)\n",
    "                    return True\n",
    "                else:\n",
    "                    numbers[numbers[i]] = numbers[i]\n",
    "                    numbers[i] = temp\n",
    "                 \n",
    "                 \n",
    "        return False\n",
    "Solution().duplicate([3,1,0,2,5,3],[-1])"
   ]
  },
  {
   "cell_type": "markdown",
   "metadata": {},
   "source": [
    "#### 题目列表三\n",
    "1. 正则表达式匹配\n",
    "2. 判断链表中的环入口结点\n",
    "3. 删除排序链表中的所有重复结点（1，1）这种链表中的结点都要删除\n",
    "4. 调整数组顺序使奇数位于偶数前面"
   ]
  },
  {
   "cell_type": "code",
   "execution_count": 32,
   "metadata": {},
   "outputs": [
    {
     "name": "stdout",
     "output_type": "stream",
     "text": [
      ".*\n"
     ]
    },
    {
     "data": {
      "text/plain": [
       "True"
      ]
     },
     "execution_count": 32,
     "metadata": {},
     "output_type": "execute_result"
    }
   ],
   "source": [
    "#1.正则表达式匹配\n",
    "# note 这道题有个解法是递归，如果pattenrn包含*，那么递归判断s的后几个与pattern的后几个，同样如果包含‘.’也可以递归，\n",
    "# 注意要考虑到各种情况\n",
    "class Solution:\n",
    "    # s, pattern都是字符串\n",
    "    def match(self, s, pattern):\n",
    "        # write code here\n",
    "        ls = len(s)\n",
    "        lp = len(pattern)\n",
    "        if ls == 0 and lp == 0:\n",
    "            return True\n",
    "        ins = 0\n",
    "        inp = 0\n",
    "        while(ins <= ls and inp < lp):\n",
    "            try:\n",
    "                print(pattern)\n",
    "                if s[ins]==pattern[inp] or pattern[inp]=='.':\n",
    "                    ins += 1\n",
    "                    inp += 1\n",
    "                elif inp < lp-1 and pattern[inp+1]=='*':\n",
    "                    inp += 2\n",
    "                else:\n",
    "                    return False\n",
    "            except:\n",
    "                if pattern[inp+1]=='*' and lp==2:\n",
    "                    return True\n",
    "                \n",
    "        if ins != ls-1 or inp != lp-1:\n",
    "            return False\n",
    "        else:\n",
    "            return True\n",
    "Solution().match('','.*')"
   ]
  },
  {
   "cell_type": "code",
   "execution_count": 1,
   "metadata": {},
   "outputs": [],
   "source": [
    "#2.链表的入口结点\n",
    "# 快慢指针，快指针走两步，慢支针走一步，循环结束的条件是快指针到终点（false）或者两者相遇，\n",
    "# 那么快指针从头开始，快慢指针每次都直走一次，只要两者再次相遇，那么这个相遇的结点就是环的入口。\n",
    "class Solution:\n",
    "    def EntryNodeOfLoop(self, pHead):\n",
    "        # write code here\n",
    "        fast = pHead\n",
    "        slow = pHead\n",
    "        while(fast and fast.next):\n",
    "            fast = fast.next.next\n",
    "            slow = slow.next\n",
    "            if fast == slow:\n",
    "                fast = pHead\n",
    "                while(fast!=slow):\n",
    "                    fast = fast.next\n",
    "                    slow = slow.next\n",
    "                return fast\n",
    "        return None"
   ]
  },
  {
   "cell_type": "code",
   "execution_count": 2,
   "metadata": {},
   "outputs": [],
   "source": [
    "#3. 删除链表中的所有重复结点\n",
    "# 最快的答案： 递归，可以仔细看下\n",
    "class Solution:\n",
    "    def deleteDuplication(self, pHead):\n",
    "        # write code here\n",
    "        if pHead is None or pHead.next is None: # 递归到链表的末尾了\n",
    "            return pHead\n",
    "        head1 = pHead.next\n",
    "        if head1.val != pHead.val: # 如果头指针（随着递归逐步向后迭代的指针）的下一个指针和头指针不重复，则下一个指针作为头指针\n",
    "            pHead.next = self.deleteDuplication(pHead.next)\n",
    "        else:\n",
    "            while pHead.val == head1.val and head1.next is not None:#如果重复，就一直向后找，知道找到不和头指针重复的node\n",
    "                head1 = head1.next\n",
    "            if head1.val != pHead.val: # 有可能剩下的最后一个结点是None，触发while循环的终止条件，要再次判断下head1是不是重复结点\n",
    "                pHead = self.deleteDuplication(head1)\n",
    "            else:\n",
    "                return None # 是的话，递归结束，最后一个返回的结点是none\n",
    "        return pHead"
   ]
  },
  {
   "cell_type": "code",
   "execution_count": 3,
   "metadata": {},
   "outputs": [],
   "source": [
    "#3. 自己的答案没有想到递归，试了很多边界条件\n",
    "class Solution:\n",
    "    def deleteDuplication(self, pHead):\n",
    "        # write code here\n",
    "        if pHead == None:\n",
    "            return None\n",
    "        newHead = ListNode(-10) # 添加头节点\n",
    "        pre = newHead\n",
    "        pre.next = pHead\n",
    "        dup_val = -10\n",
    "        while(pre.next): \n",
    "            if pre.next.next == None: # 只剩一个节点的情况\n",
    "                if pre.next.val == dup_val: #要判断这个节点的值是不是出现过\n",
    "                    return newHead.next.next\n",
    "                else:\n",
    "                    return newHead.next \n",
    "            elif pre.next.val == pre.next.next.val: #\n",
    "                dup_val = pre.next.val # 记录相等的值是什么\n",
    "                pre.next = pre.next.next.next # could be None\n",
    "            else:\n",
    "                pre = pre.next # 向后移一位\n",
    "        return newHead.next"
   ]
  },
  {
   "cell_type": "code",
   "execution_count": 1,
   "metadata": {},
   "outputs": [],
   "source": [
    "#4. 输入一个整数数组，实现一个函数来调整该数组中数字的顺序，\n",
    "#使得所有的奇数位于数组的前半部分，所有的偶数位于数组的后半部分，并保证奇数和奇数，偶数和偶数之间的相对位置不变。\n",
    "\n",
    "# -*- coding:utf-8 -*-\n",
    "class Solution:\n",
    "    def reOrderArray(self, array):\n",
    "        # write code here\n",
    "        lgh = len(array)\n",
    "        end = lgh\n",
    "        i = 0\n",
    "        while(i<end):\n",
    "            if array[i]%2 == 0:\n",
    "                end -= 1\n",
    "                temp = array[i]\n",
    "                for j in range(i,lgh-1):\n",
    "                    array[j]=array[j+1]\n",
    "                array[lgh-1]=temp\n",
    "            else:\n",
    "                i += 1\n",
    "        return array\n",
    "#end 控制结束条件\n",
    "#从0到end，遇到偶数就放到最后，其他的往前移一位"
   ]
  },
  {
   "cell_type": "code",
   "execution_count": null,
   "metadata": {},
   "outputs": [],
   "source": []
  }
 ],
 "metadata": {
  "celltoolbar": "Raw Cell Format",
  "kernelspec": {
   "display_name": "Python 3",
   "language": "python",
   "name": "python3"
  },
  "language_info": {
   "codemirror_mode": {
    "name": "ipython",
    "version": 3
   },
   "file_extension": ".py",
   "mimetype": "text/x-python",
   "name": "python",
   "nbconvert_exporter": "python",
   "pygments_lexer": "ipython3",
   "version": "3.6.5"
  }
 },
 "nbformat": 4,
 "nbformat_minor": 2
}

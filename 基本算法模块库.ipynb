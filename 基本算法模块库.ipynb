{
 "cells": [
  {
   "cell_type": "markdown",
   "metadata": {},
   "source": [
    "####  Sort  list\n",
    "1. 插入： 时间复杂度：O(n²)   空间复杂度：O(1)\n",
    "2. 归并： 时间复杂度：O(nlog₂n) 空间复杂度：O(1)（两种实现）\n",
    "3. 快排： 时间复杂度：O(nlog₂n) 空间复杂度：O(nlog₂n)（四种实现）"
   ]
  },
  {
   "cell_type": "code",
   "execution_count": 8,
   "metadata": {},
   "outputs": [],
   "source": [
    "def insert_sort(alist):\n",
    "    \"\"\"插入排序\"\"\"\n",
    "    n = len(alist)\n",
    "    for j in range(1, n):\n",
    "        # 控制将拿到的元素放到前面有序序列中正确位置的过程\n",
    "        for i in range(j, 0, -1):# 从右向左遍历如果比前面的元素小，则往前移动\n",
    "            if alist[i] < alist[i - 1]:\n",
    "                alist[i], alist[i - 1] = alist[i - 1], alist[i]\n",
    "            # 否则代表比前面的所有元素都小，不需要再移动\n",
    "            else:\n",
    "                break"
   ]
  },
  {
   "cell_type": "code",
   "execution_count": 13,
   "metadata": {},
   "outputs": [],
   "source": [
    "# 插入排序2 比1费时间\n",
    "def insert(alist):\n",
    "    if len(alist)<=1:\n",
    "        return alist\n",
    "    for i in range(1,len(alist)):\n",
    "        for j in range(i):\n",
    "            if alist[i]<alist[j]:\n",
    "                alist[i],alist[j]=alist[j],alist[i] # 从前往后遍历0-i的数，如果i处的数比前面的小，两者互换位置\n",
    "    return alist"
   ]
  },
  {
   "cell_type": "code",
   "execution_count": 12,
   "metadata": {},
   "outputs": [
    {
     "data": {
      "text/plain": [
       "[0, 1, 3, 4, 5, 6]"
      ]
     },
     "execution_count": 12,
     "metadata": {},
     "output_type": "execute_result"
    }
   ],
   "source": [
    "# 归并实现1 \n",
    "def mergesort(seq):\n",
    "    \"\"\"归并排序\"\"\"\n",
    "    if len(seq) <= 1:\n",
    "        return seq\n",
    "    mid = len(seq)//2  # 将列表分成更小的两个列表\n",
    "    # 分别对左右两个列表进行处理，分别返回两个排序好的列表\n",
    "    left = mergesort(seq[:mid])\n",
    "    right = mergesort(seq[mid:])\n",
    "    # 对排序好的两个列表合并，产生一个新的排序好的列表\n",
    "    return merge(left, right)\n",
    "\n",
    "def merge(left, right):\n",
    "    \"\"\"合并两个已排序好的列表，产生一个新的已排序好的列表\"\"\"\n",
    "    result = []  # 新的已排序好的列表\n",
    "    i = 0  # 下标\n",
    "    j = 0\n",
    "    # 对两个列表中的元素 两两对比。\n",
    "    # 将最小的元素，放到result中，并对当前列表下标加1\n",
    "    while i < len(left) and j < len(right):\n",
    "        if left[i] <= right[j]:\n",
    "            result.append(left[i])\n",
    "            i += 1\n",
    "        else:\n",
    "            result.append(right[j])\n",
    "            j += 1\n",
    "    result += left[i:]\n",
    "    result += right[j:]\n",
    "    return result\n",
    "\n",
    "seq = [5,3,0,6,1,4]\n",
    "result = mergesort(seq)\n",
    "result"
   ]
  },
  {
   "cell_type": "code",
   "execution_count": 11,
   "metadata": {},
   "outputs": [],
   "source": [
    "# 2-23 自己写的\n",
    "def mergelr(left,right):\n",
    "    lgh1 = len(left)\n",
    "    lgh2 = len(right)\n",
    "    i1 = 0\n",
    "    i2 = 0\n",
    "    temp = []\n",
    "    while(i1<lgh1 or i2 <lgh2):\n",
    "        if left[i1]<right[i2]:\n",
    "            temp.append(left[i1])\n",
    "            i1+=1\n",
    "        else:\n",
    "            temp.append(right[i2])\n",
    "            i2+=1\n",
    "        if i1 == lgh1:\n",
    "            temp=temp+right[i2:]\n",
    "            return temp\n",
    "        if i2 == lgh2:\n",
    "            temp=temp+left[i1:]\n",
    "            return temp\n",
    "    return temp\n",
    "\n",
    "def merge(alist):\n",
    "    lgh = len(alist)\n",
    "    if lgh == 1:\n",
    "        return alist\n",
    "    else:\n",
    "        left = merge(alist[:int(lgh/2)])\n",
    "        right = merge(alist[int(lgh/2):])\n",
    "    return mergelr(left,right)"
   ]
  },
  {
   "cell_type": "code",
   "execution_count": 3,
   "metadata": {},
   "outputs": [
    {
     "data": {
      "text/plain": [
       "[0, 1, 2, 3, 4]"
      ]
     },
     "execution_count": 3,
     "metadata": {},
     "output_type": "execute_result"
    }
   ],
   "source": [
    "# 快排 1\n",
    "quick_sort = lambda array: array if len(array) <= 1 else \\\n",
    "quick_sort([item for item in array[1:] if item <= array[0]])+ \\\n",
    "[array[0]] + quick_sort([item for item in array[1:] if item > array[0]])\n",
    "quick_sort([1,3,2,4,0])"
   ]
  },
  {
   "cell_type": "code",
   "execution_count": 25,
   "metadata": {},
   "outputs": [
    {
     "data": {
      "text/plain": [
       "[1, 2, 3, 4, 5, 6, 7, 8]"
      ]
     },
     "execution_count": 25,
     "metadata": {},
     "output_type": "execute_result"
    }
   ],
   "source": [
    "# 快排 2 原地排序 ****** 自己写的！！！！2-23记住\n",
    "def quick(alist,left,right): # 设置left，right记录起止位置\n",
    "    if left>=right: #排序终止条件\n",
    "        return\n",
    "    else:\n",
    "        base = left #以左边第一个作为base\n",
    "        i = left\n",
    "        j = right\n",
    "        while(i!=j):# 时刻注意i 和j是否相遇\n",
    "            while(alist[j]>alist[base] and i!=j): #先从右边开始找第一个小于base的位置\n",
    "                j-=1\n",
    "            while(alist[i]<alist[base] and i!=j): #再找左边开始找第一个大于base的位置\n",
    "                i+=1\n",
    "            alist[i],alist[j]=alist[j],alist[i] #找到以后交换\n",
    "\n",
    "        alist[base],alist[i]=alist[i],alist[base]# 最后交换base和相遇位置的数（因为相遇位置肯定小于base）\n",
    "        base=i # 赋值新的base\n",
    "        quick(alist,left,base) #递归左半部分\n",
    "        quick(alist,base+1,right) #递归右边部分\n",
    "        return alist\n",
    "array = [4,5,1,6,2,7,3,8]\n",
    "quick(array,0,len(array)-1)\n",
    "array"
   ]
  },
  {
   "cell_type": "code",
   "execution_count": 7,
   "metadata": {},
   "outputs": [
    {
     "data": {
      "text/plain": [
       "[1, 2, 3, 4, 5, 7]"
      ]
     },
     "execution_count": 7,
     "metadata": {},
     "output_type": "execute_result"
    }
   ],
   "source": [
    "# 快排4 栈实现的无递归的排序\n",
    "def quick_sort(array, l, r):\n",
    "    if l >= r:\n",
    "        return\n",
    "    stack = []\n",
    "    stack.append(l)\n",
    "    stack.append(r)\n",
    "    while stack:\n",
    "        low = stack.pop(0)\n",
    "        high = stack.pop(0)\n",
    "        if high - low <= 0:\n",
    "            continue\n",
    "        x = array[high]\n",
    "        i = low - 1\n",
    "        for j in range(low, high):\n",
    "            if array[j] <= x:\n",
    "                i += 1\n",
    "                array[i], array[j] = array[j], array[i]\n",
    "        array[i + 1], array[high] = array[high], array[i + 1]\n",
    "        stack.extend([low, i, i + 2, high])\n",
    "array = [1,3,2,4,7,5]\n",
    "quick_sort(array,0,5)\n",
    "array"
   ]
  },
  {
   "cell_type": "code",
   "execution_count": 8,
   "metadata": {},
   "outputs": [
    {
     "data": {
      "text/plain": [
       "0"
      ]
     },
     "execution_count": 8,
     "metadata": {},
     "output_type": "execute_result"
    }
   ],
   "source": [
    "# 二分查找\n",
    "#边界有问题\n",
    "def bi(li,tar):\n",
    "    length = len(li)\n",
    "    head = 0\n",
    "    tail = length-1\n",
    "    while(head <= tail):\n",
    "        mid = (head+tail)//2\n",
    "        if tar==li[mid]:\n",
    "            return mid\n",
    "        elif tar < li[mid]:\n",
    "            tail = mid-1\n",
    "        else:\n",
    "            head = mid+1\n",
    "    return False\n",
    "li = [1]\n",
    "tar = 1\n",
    "bi(li,tar)"
   ]
  },
  {
   "cell_type": "code",
   "execution_count": 9,
   "metadata": {},
   "outputs": [],
   "source": [
    "#链表的构建\n",
    "#二叉树的构建"
   ]
  },
  {
   "cell_type": "code",
   "execution_count": 14,
   "metadata": {},
   "outputs": [],
   "source": [
    "#二叉树的构建\n",
    "#type 1 :列表表示树结构\n",
    "class binTree():\n",
    "    def __init__(self,rootval):\n",
    "        self.root = [rootval,[],[]]\n",
    "    def insertLeft(self,newbranch):\n",
    "        t = self.root.pop(1)\n",
    "        if len(t)>1:\n",
    "            return self.root.insert(1,[newbranch,t,[]])\n",
    "        else:\n",
    "            return self.root.insert(1,[newbranch,[],[]])\n",
    "    def insertRight(self,newbranch):\n",
    "        t = self.root.pop(2)\n",
    "        if len(t)>1:\n",
    "            return self.root.insert(2,[newbranch,[],t])\n",
    "        else:\n",
    "            return self.root.insert(2,[newbranch,[],[]])\n",
    "    def getRootVal(self):\n",
    "        return self.root[0]\n",
    "    def getLeftChild(self):\n",
    "        return self.root[1]\n",
    "    def getRightChild(self):\n",
    "        return self.root[2]\n",
    "    \n",
    "    def preorder(self,tree):\n",
    "        print(tree[0])\n",
    "        if tree[1]:\n",
    "            self.preorder(tree[1])\n",
    "        if tree[2]:\n",
    "            self.preorder(tree[2])\n",
    "        \n",
    "    \n",
    "    def BFS(self):# 层序遍历\n",
    "        tree = self.root.copy() # 一定是深度拷贝，否则bfs结束以后tree就是空；[1,[2,[],[]],[3,[],[]]]\n",
    "        bfs = [tree.pop(0)] # 先把最外层的root val取出来\n",
    "        while(tree):\n",
    "            subtree = tree.pop(0) #左子树或者右子树\n",
    "            bfs.append(subtree[0])\n",
    "            if subtree[1]:\n",
    "                tree.append(subtree[1]) # 把取过根结点的子树的左子树入队\n",
    "            if subtree[2]:\n",
    "                tree.append(subtree[2]) # 把取过根结点的子树的右子树入队\n",
    "        return bfs\n",
    "        \n",
    "                             \n"
   ]
  },
  {
   "cell_type": "code",
   "execution_count": 15,
   "metadata": {},
   "outputs": [
    {
     "name": "stdout",
     "output_type": "stream",
     "text": [
      "root 1\n",
      "left [4, [2, [], []], []]\n",
      "right [5, [], [3, [], []]]\n",
      "BFS [1, 4, 5, 2, 3]\n",
      "1\n",
      "4\n",
      "2\n",
      "5\n",
      "3\n",
      "preorder None\n"
     ]
    }
   ],
   "source": [
    "t1 = binTree(1)\n",
    "t1.insertLeft(2)\n",
    "t1.insertRight(3)\n",
    "t1.insertLeft(4)\n",
    "t1.insertRight(5)\n",
    "print('root',t1.getRootVal())\n",
    "print('left',t1.getLeftChild())\n",
    "print('right',t1.getRightChild())\n",
    "print('BFS',t1.BFS())\n",
    "print('preorder',t1.preorder(t1.root))"
   ]
  },
  {
   "cell_type": "code",
   "execution_count": 18,
   "metadata": {},
   "outputs": [],
   "source": [
    "#type 2 :结点表示树结构\n",
    "class treeNode:\n",
    "    def __init__(self,val):\n",
    "        self.val = val\n",
    "        self.leftChild = None\n",
    "        self.rightChild = None\n",
    "    def insertLeft(self,leftval):\n",
    "        leftChild = treeNode(leftval) # 在class里可以调用class！\n",
    "        if self.leftChild ==None:\n",
    "            self.leftChild = leftChild\n",
    "        else:\n",
    "            leftChild.leftChild = self.leftChild\n",
    "            self.leftChild = leftChild\n",
    "    def insertRight(self,rightval):\n",
    "        rightChild = treeNode(rightval)\n",
    "        if self.rightChild == None:\n",
    "            self.rightChild = rightChild\n",
    "        else:\n",
    "            rightChild.rightChild = self.rightChild\n",
    "            self.rightChild = rightChild\n",
    "    def getRootVal(self):\n",
    "        return self.val\n",
    "    def getLeftChild(self):\n",
    "        return self.leftChild\n",
    "    def getRightChild(self):\n",
    "        return self.rightChild\n",
    "    \n",
    "    def preorder(self):\n",
    "        print(self.val)\n",
    "        if self.leftChild:\n",
    "            self.leftChild.preorder()\n",
    "        if self.rightChild:\n",
    "            self.rightChild.preorder()\n",
    "            \n",
    "    def inorder(self):\n",
    "        if self.leftorder:\n",
    "            self.leftorder.inorder()\n",
    "        print(self.val)\n",
    "        if self.rightChild:\n",
    "            self.rightorder.inorder()\n",
    "            \n",
    "    def postorder(self):\n",
    "        if self.leftChild:\n",
    "            self.leftChild.postorder()\n",
    "        if self.rightChild:\n",
    "            self.rightChild.postorder()\n",
    "        print(self.val)\n",
    "        \n",
    "    def BFS(self):\n",
    "        queue = [self] #队列也可以直接存一个类！\n",
    "        l = []\n",
    "        while(queue):\n",
    "            current = queue.pop(0) # 把当前的子树取出来\n",
    "            l.append(current.val) #保存根结点\n",
    "            if current.leftChild:\n",
    "                queue.append(current.leftChild) # 左子结点入队\n",
    "            if current.rightChild:\n",
    "                queue.append(current.rightChild) #右子结点出队\n",
    "        return l"
   ]
  },
  {
   "cell_type": "code",
   "execution_count": 19,
   "metadata": {},
   "outputs": [
    {
     "name": "stdout",
     "output_type": "stream",
     "text": [
      "root 1\n",
      "left 4\n",
      "right 5\n"
     ]
    },
    {
     "data": {
      "text/plain": [
       "[1, 4, 5, 2, 3]"
      ]
     },
     "execution_count": 19,
     "metadata": {},
     "output_type": "execute_result"
    }
   ],
   "source": [
    "t1 = treeNode(1)\n",
    "t1.insertLeft(2)\n",
    "t1.insertRight(3)\n",
    "t1.insertLeft(4)\n",
    "t1.insertRight(5)\n",
    "print('root',t1.getRootVal())\n",
    "print('left',t1.getLeftChild().getRootVal())\n",
    "print('right',t1.getRightChild().getRootVal())\n",
    "t1.BFS()"
   ]
  },
  {
   "cell_type": "code",
   "execution_count": null,
   "metadata": {},
   "outputs": [],
   "source": []
  },
  {
   "cell_type": "code",
   "execution_count": null,
   "metadata": {},
   "outputs": [],
   "source": []
  }
 ],
 "metadata": {
  "kernelspec": {
   "display_name": "Python 3",
   "language": "python",
   "name": "python3"
  },
  "language_info": {
   "codemirror_mode": {
    "name": "ipython",
    "version": 3
   },
   "file_extension": ".py",
   "mimetype": "text/x-python",
   "name": "python",
   "nbconvert_exporter": "python",
   "pygments_lexer": "ipython3",
   "version": "3.6.5"
  }
 },
 "nbformat": 4,
 "nbformat_minor": 2
}
